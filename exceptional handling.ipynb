{
 "cells": [
  {
   "cell_type": "code",
   "execution_count": 2,
   "metadata": {},
   "outputs": [
    {
     "ename": "SyntaxError",
     "evalue": "invalid syntax (3408983335.py, line 10)",
     "output_type": "error",
     "traceback": [
      "\u001b[1;36m  Input \u001b[1;32mIn [2]\u001b[1;36m\u001b[0m\n\u001b[1;33m    if _ _name_ _=\"_ _main_ _\":\u001b[0m\n\u001b[1;37m         ^\u001b[0m\n\u001b[1;31mSyntaxError\u001b[0m\u001b[1;31m:\u001b[0m invalid syntax\n"
     ]
    }
   ],
   "source": [
    "def fun2():\n",
    "    num1=int(input(\"enter the num\"))\n",
    "    num2=int(input(\"enter the num\"))\n",
    "    print(num1//num2)\n",
    "    print(\"end of code\")\n",
    "def fun1():\n",
    "    print(\"inside fun1\")\n",
    "    fun2()\n",
    "    print(\"back in fun1\")\n",
    "if _ _name_ _==\"_ _main_ _\":\n",
    "    print(\"inside main\")\n",
    "    fun1()\n",
    "    print(\"back in main\")"
   ]
  },
  {
   "cell_type": "code",
   "execution_count": 11,
   "metadata": {},
   "outputs": [
    {
     "name": "stdout",
     "output_type": "stream",
     "text": [
      "end of the code\n",
      "exceptional handling demo\n"
     ]
    }
   ],
   "source": [
    "try:\n",
    "    num1=int(input(\"enter the first number\"))\n",
    "    num2=int(input(\"enter the second number\"))\n",
    "    num3=num1//num2\n",
    "except:\n",
    "    print(\"some error\")\n",
    "print(\"end of the code\")\n",
    "print(\"exceptional handling demo\")"
   ]
  },
  {
   "cell_type": "code",
   "execution_count": 4,
   "metadata": {},
   "outputs": [
    {
     "name": "stdout",
     "output_type": "stream",
     "text": [
      "56//6=9\n",
      "end of code\n"
     ]
    }
   ],
   "source": [
    "try:\n",
    "    num1=int(input(\"enter the first number\"))\n",
    "    num2=int(input(\"enter the second number\"))\n",
    "    num3=num1//num2\n",
    "    print(f\"{num1}//{num2}={num3}\")\n",
    "    #we can also merge two or more eceptions\n",
    "except ValueError as ob:\n",
    "    print(ob)\n",
    "except ZeroDivisionError as ob:\n",
    "    print(ob)\n",
    "except Exception as ob:\n",
    "    print(\"some error\")\n",
    "print(\"end of code\")"
   ]
  },
  {
   "cell_type": "code",
   "execution_count": 8,
   "metadata": {},
   "outputs": [
    {
     "ename": "SyntaxError",
     "evalue": "invalid syntax (180150706.py, line 7)",
     "output_type": "error",
     "traceback": [
      "\u001b[1;36m  Input \u001b[1;32mIn [8]\u001b[1;36m\u001b[0m\n\u001b[1;33m    except Zero Divison Error as ob:\u001b[0m\n\u001b[1;37m    ^\u001b[0m\n\u001b[1;31mSyntaxError\u001b[0m\u001b[1;31m:\u001b[0m invalid syntax\n"
     ]
    }
   ],
   "source": [
    "while(True):\n",
    "    try:\n",
    "        num1=int(input(\"enter the first number\"))\n",
    "        num2=int(input(\"enter the second number\"))\n",
    "        num3=num1//num2\n",
    "        print(f\"{num1}//{num2}={num3}\")\n",
    "        except Zero Divison Error as ob:\n",
    "            print(ob)\n",
    "            except ValueError as ob:\n",
    "                print(ob)\n",
    "                else:\n",
    "                    print(f\"{num1}//{num2}={num3}\")\n",
    "                    break\n",
    "                print(\"end of code\")\n",
    "                print(\"exception handling demo\")"
   ]
  },
  {
   "cell_type": "code",
   "execution_count": 10,
   "metadata": {},
   "outputs": [],
   "source": [
    "try:\n",
    "    file=open(\"log.txt\",\"a\")\n",
    "    num1=int(input(\"enter the first num\"))\n",
    "    num2=int(input(\"enter the second num\"))\n",
    "    st=f\"{num1}//num2={num1//num2}\\n\"\n",
    "    file.write(st)\n",
    "    file.close()\n",
    "except ZeroDivisionError as ob:\n",
    "    file.write(str(ob)+\"\\n\")\n",
    "except Exception as ob:\n",
    "    file.write(str(ob)+\"\\n\")\n",
    "finally:\n",
    "    file.close()"
   ]
  },
  {
   "cell_type": "code",
   "execution_count": 10,
   "metadata": {},
   "outputs": [
    {
     "ename": "SyntaxError",
     "evalue": "invalid syntax (3873681173.py, line 11)",
     "output_type": "error",
     "traceback": [
      "\u001b[1;36m  Input \u001b[1;32mIn [10]\u001b[1;36m\u001b[0m\n\u001b[1;33m    except ValueError as ob:\u001b[0m\n\u001b[1;37m    ^\u001b[0m\n\u001b[1;31mSyntaxError\u001b[0m\u001b[1;31m:\u001b[0m invalid syntax\n"
     ]
    }
   ],
   "source": [
    "class InvalidAge(Exception):\n",
    "    def __init__(self,msg):\n",
    "        seLf.msg=msg\n",
    "    def __str__(self):\n",
    "        return self.msg\n",
    "age=int(input(\"enter your age\"))\n",
    "if age>=18 and age<=45:\n",
    "    print(\"please submit your cv\")\n",
    "else:\n",
    "    raise InvalidAge(\"invalid age\")\n",
    "except ValueError as ob:\n",
    "    print(ob)\n",
    "except InvalidAge as ob:\n",
    "    print(ob)"
   ]
  },
  {
   "cell_type": "code",
   "execution_count": 11,
   "metadata": {},
   "outputs": [
    {
     "name": "stdout",
     "output_type": "stream",
     "text": [
      "u are allowed to cast ur vote\n"
     ]
    }
   ],
   "source": [
    "def checkage(age):\n",
    "    assert age>=18,\"age must be greater than 17\"\n",
    "    print(\"u are allowed to cast ur vote\")\n",
    "checkage(int(input(\"enter ur age\")))"
   ]
  },
  {
   "cell_type": "code",
   "execution_count": null,
   "metadata": {},
   "outputs": [],
   "source": [
    "def test():\n",
    "    for i in range(10):\n",
    "        print(i)\n",
    "        assert i<5,\"value of is greater than 5\"\n",
    "        print(I)"
   ]
  },
  {
   "cell_type": "code",
   "execution_count": 9,
   "metadata": {},
   "outputs": [],
   "source": [
    "try:\n",
    "    num1=int(input(\"enetr first number\"))\n",
    "    num2=int(input(\"enter the second  umnr\"))\n",
    "    num3=num1//num2\n",
    "except ZeroDivisionError as ob:\n",
    "    try:\n",
    "        print(10//0)\n",
    "    except:\n",
    "        print(\"some error\")\n",
    "    print(ob)\n",
    "    print(\"end of code\")\n",
    "    print(\"exception handling demo\")"
   ]
  },
  {
   "cell_type": "code",
   "execution_count": 16,
   "metadata": {},
   "outputs": [
    {
     "name": "stdout",
     "output_type": "stream",
     "text": [
      "now you have gone too far\n"
     ]
    }
   ],
   "source": [
    "#Write an application named GoTooFar in which you declare an array of five integers and \n",
    "# store five values in the array. Write a try block in which you loop to display each successive \n",
    "# element of the array, increasing a subscript by 1 on each pass through the loop. Create a catch block that catches the exception IndexError and displays the message, “Now you’ve gone too far\n",
    "arr=np.array([1,2,3,4,5])\n",
    "try:\n",
    "    for i in range(len(arr)):\n",
    "        print(att[i])\n",
    "except:\n",
    "    print(\"now you have gone too far\")\n"
   ]
  },
  {
   "cell_type": "code",
   "execution_count": 15,
   "metadata": {},
   "outputs": [
    {
     "name": "stdout",
     "output_type": "stream",
     "text": [
      "valueerror\n"
     ]
    }
   ],
   "source": [
    "try:\n",
    "    str=int(input(\"enter the num\"))\n",
    "    print(str)\n",
    "except:\n",
    "    print(\"valueerror\")"
   ]
  },
  {
   "cell_type": "code",
   "execution_count": null,
   "metadata": {},
   "outputs": [],
   "source": [
    "import numpy as np\n",
    "import math\n",
    "try:\n",
    "    num=int(input(\"enter the number\"))\n",
    "    check=math.sqrt(num)\n",
    "except:\n",
    "    print(\"math domain error\")"
   ]
  },
  {
   "cell_type": "code",
   "execution_count": 4,
   "metadata": {},
   "outputs": [
    {
     "name": "stdout",
     "output_type": "stream",
     "text": [
      "{67: '', 101: '', 576: '', 78: '', 23: ''}\n",
      "not a valid marks\n",
      "{67: 34, 101: 56, 576: 45, 78: 67, 23: 0}\n"
     ]
    }
   ],
   "source": [
    "class scoreException(Exception):\n",
    "    def __init__(self,msg=\"not a valid marks\"):\n",
    "        self.msg=msg\n",
    "    def __str__(self):\n",
    "        return self.msg   \n",
    "dict={}\n",
    "for i in range(1,6):\n",
    "    id=int(input(\"enter the students id:\"))\n",
    "    dict.update({id:\"\"})\n",
    "print (dict)\n",
    "for i in dict.keys():\n",
    "    marks=int(input(f\"enter the marks for id-{i}:\"))\n",
    "    if marks<=100 and marks>=0:\n",
    "        dict[i]=marks\n",
    "    else:\n",
    "        try:\n",
    "            raise scoreException(\"not a valid marks\")\n",
    "        except scoreException as ob:\n",
    "            dict[i]=0\n",
    "            print(ob)\n",
    "print(dict)   "
   ]
  },
  {
   "cell_type": "code",
   "execution_count": 2,
   "metadata": {},
   "outputs": [
    {
     "name": "stdout",
     "output_type": "stream",
     "text": [
      "dishTd             3\n",
      "dishName        Cake\n",
      "dishPrice        300\n",
      "dishMakeTime       3\n",
      "Name: 2, dtype: object\n"
     ]
    }
   ],
   "source": [
    "import pandas as pd\n",
    "class dishNotFound(Exception):\n",
    "    def __init__(self,msg):\n",
    "        self.msg=msg\n",
    "    def __str__(self):\n",
    "        return self.msg\n",
    "collection={\"dishTd\":[1,2,3,4,5],\"dishName\":[\"biryani\",\"pizza\",\"Cake\",\"Burger\",\"Pasta\"],\"dishPrice\":[100,250,300,50,55],\"dishMakeTime\":[1,2,3,4,5]}\n",
    "id=int(input(\"enter the dishId:\"))\n",
    "\n",
    "df=pd.DataFrame(collection)\n",
    "if(id in[1,2,3,4,5]):\n",
    "    print(df.iloc[id-1])\n",
    "else:\n",
    "    try:\n",
    "        raise dishNotFound(\"dish not found\")\n",
    "    except dishNotFound as ob:\n",
    "        print(ob)"
   ]
  }
 ],
 "metadata": {
  "interpreter": {
   "hash": "80bb07fb829afe3a51e2dca2180c250fa4f514bdc5a2f1576bf4efc68e44ad33"
  },
  "kernelspec": {
   "display_name": "Python 3.9.0 64-bit",
   "language": "python",
   "name": "python3"
  },
  "language_info": {
   "codemirror_mode": {
    "name": "ipython",
    "version": 3
   },
   "file_extension": ".py",
   "mimetype": "text/x-python",
   "name": "python",
   "nbconvert_exporter": "python",
   "pygments_lexer": "ipython3",
   "version": "3.9.0"
  },
  "orig_nbformat": 4
 },
 "nbformat": 4,
 "nbformat_minor": 2
}
