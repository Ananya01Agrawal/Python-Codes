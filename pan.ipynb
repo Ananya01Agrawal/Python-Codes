{
 "cells": [
  {
   "cell_type": "code",
   "execution_count": 4,
   "metadata": {},
   "outputs": [
    {
     "name": "stdout",
     "output_type": "stream",
     "text": [
      "Series([], dtype: float64)\n",
      "0    g\n",
      "1    e\n",
      "2    e\n",
      "3    k\n",
      "4    s\n",
      "dtype: object\n"
     ]
    },
    {
     "name": "stderr",
     "output_type": "stream",
     "text": [
      "C:\\Users\\ANANYA AGRAWAL\\AppData\\Local\\Temp\\ipykernel_29824\\1397870054.py:3: FutureWarning: The default dtype for empty Series will be 'object' instead of 'float64' in a future version. Specify a dtype explicitly to silence this warning.\n",
      "  ser=pd.Series()\n"
     ]
    }
   ],
   "source": [
    "import numpy as np\n",
    "import pandas as pd\n",
    "ser=pd.Series()\n",
    "print(ser)\n",
    "#create a simple array\n",
    "data=np.array(['g','e','e','k','s'])\n",
    "ser=pd.Series(data)\n",
    "print(ser)"
   ]
  },
  {
   "cell_type": "code",
   "execution_count": 5,
   "metadata": {},
   "outputs": [
    {
     "name": "stdout",
     "output_type": "stream",
     "text": [
      "        0\n",
      "0   Geeks\n",
      "1     For\n",
      "2   Geeks\n",
      "3      is\n",
      "4  portal\n",
      "5     for\n",
      "6   Geeks\n"
     ]
    }
   ],
   "source": [
    "#creating the data frame using the list\n",
    "# import pandas as pd\n",
    "import pandas as pd\n",
    " \n",
    "# list of strings\n",
    "lst = ['Geeks', 'For', 'Geeks', 'is', \n",
    "            'portal', 'for', 'Geeks']\n",
    " \n",
    "# Calling DataFrame constructor on list\n",
    "df = pd.DataFrame(lst)\n",
    "print(df)"
   ]
  },
  {
   "cell_type": "code",
   "execution_count": 9,
   "metadata": {},
   "outputs": [
    {
     "name": "stdout",
     "output_type": "stream",
     "text": [
      "     Name Qualification    Address\n",
      "0     Jai           Msc      Delhi\n",
      "1  Princi            MA     Kanpur\n",
      "2  Gaurav           MCA  Allahabad\n",
      "3    Anuj           Phd    Kannauj\n"
     ]
    }
   ],
   "source": [
    "# Import pandas package\n",
    "import pandas as pd\n",
    " \n",
    "# Define a dictionary containing employee data\n",
    "data = {'Name':['Jai', 'Princi', 'Gaurav', 'Anuj'],\n",
    "        'Age':[27, 24, 22, 32],\n",
    "        'Address':['Delhi', 'Kanpur', 'Allahabad', 'Kannauj'],\n",
    "        'Qualification':['Msc', 'MA', 'MCA', 'Phd']}\n",
    " \n",
    "# Convert the dictionary into DataFrame \n",
    "df = pd.DataFrame(data)\n",
    " \n",
    "# select two columns\n",
    "print(df[['Name', 'Qualification','Address']])"
   ]
  },
  {
   "cell_type": "code",
   "execution_count": 11,
   "metadata": {},
   "outputs": [
    {
     "name": "stdout",
     "output_type": "stream",
     "text": [
      "0 name      aparna\n",
      "degree       MBA\n",
      "score         90\n",
      "Name: 0, dtype: object\n",
      "\n",
      "1 name      pankaj\n",
      "degree       BCA\n",
      "score         40\n",
      "Name: 1, dtype: object\n",
      "\n",
      "2 name      sudhir\n",
      "degree    M.Tech\n",
      "score         80\n",
      "Name: 2, dtype: object\n",
      "\n",
      "3 name      Geeku\n",
      "degree      MBA\n",
      "score        98\n",
      "Name: 3, dtype: object\n",
      "\n"
     ]
    }
   ],
   "source": [
    "#Iterating over rows :\n",
    "#In order to iterate over rows, we can use three function iteritems(), iterrows(), itertuples() . \n",
    "# These three function will help in iteration over rows.\n",
    "# importing pandas as pd\n",
    "import pandas as pd  \n",
    "# dictionary of lists\n",
    "dict = {'name':[\"aparna\", \"pankaj\", \"sudhir\", \"Geeku\"],\n",
    "        'degree': [\"MBA\", \"BCA\", \"M.Tech\", \"MBA\"],\n",
    "        'score':[90, 40, 80, 98]}\n",
    "# creating a dataframe from a dictionary \n",
    "df = pd.DataFrame(dict)\n",
    "# iterating over rows using iterrows() function \n",
    "for i, j in df.iterrows():\n",
    "    print(i, j)\n",
    "    print()"
   ]
  },
  {
   "cell_type": "code",
   "execution_count": 12,
   "metadata": {},
   "outputs": [
    {
     "data": {
      "text/html": [
       "<div>\n",
       "<style scoped>\n",
       "    .dataframe tbody tr th:only-of-type {\n",
       "        vertical-align: middle;\n",
       "    }\n",
       "\n",
       "    .dataframe tbody tr th {\n",
       "        vertical-align: top;\n",
       "    }\n",
       "\n",
       "    .dataframe thead th {\n",
       "        text-align: right;\n",
       "    }\n",
       "</style>\n",
       "<table border=\"1\" class=\"dataframe\">\n",
       "  <thead>\n",
       "    <tr style=\"text-align: right;\">\n",
       "      <th></th>\n",
       "      <th>First Score</th>\n",
       "      <th>Second Score</th>\n",
       "      <th>Third Score</th>\n",
       "      <th>Fourth Score</th>\n",
       "    </tr>\n",
       "  </thead>\n",
       "  <tbody>\n",
       "    <tr>\n",
       "      <th>0</th>\n",
       "      <td>100.0</td>\n",
       "      <td>30.0</td>\n",
       "      <td>52</td>\n",
       "      <td>NaN</td>\n",
       "    </tr>\n",
       "    <tr>\n",
       "      <th>1</th>\n",
       "      <td>90.0</td>\n",
       "      <td>NaN</td>\n",
       "      <td>40</td>\n",
       "      <td>NaN</td>\n",
       "    </tr>\n",
       "    <tr>\n",
       "      <th>2</th>\n",
       "      <td>NaN</td>\n",
       "      <td>45.0</td>\n",
       "      <td>80</td>\n",
       "      <td>NaN</td>\n",
       "    </tr>\n",
       "    <tr>\n",
       "      <th>3</th>\n",
       "      <td>95.0</td>\n",
       "      <td>56.0</td>\n",
       "      <td>98</td>\n",
       "      <td>65.0</td>\n",
       "    </tr>\n",
       "  </tbody>\n",
       "</table>\n",
       "</div>"
      ],
      "text/plain": [
       "   First Score  Second Score  Third Score  Fourth Score\n",
       "0        100.0          30.0           52           NaN\n",
       "1         90.0           NaN           40           NaN\n",
       "2          NaN          45.0           80           NaN\n",
       "3         95.0          56.0           98          65.0"
      ]
     },
     "execution_count": 12,
     "metadata": {},
     "output_type": "execute_result"
    }
   ],
   "source": [
    "#Dropping missing values using dropna() :\n",
    "#In order to drop a null values from a dataframe, we used dropna() function this fuction drop Rows/Columns of datasets with Null values in different ways.\n",
    "# importing pandas as pd\n",
    "import pandas as pd\n",
    " \n",
    "# importing numpy as np\n",
    "import numpy as np\n",
    " \n",
    "# dictionary of lists\n",
    "dict = {'First Score':[100, 90, np.nan, 95],\n",
    "        'Second Score': [30, np.nan, 45, 56],\n",
    "        'Third Score':[52, 40, 80, 98],\n",
    "        'Fourth Score':[np.nan, np.nan, np.nan, 65]}\n",
    " \n",
    "# creating a dataframe from dictionary\n",
    "df = pd.DataFrame(dict)\n",
    "   \n",
    "df"
   ]
  },
  {
   "cell_type": "code",
   "execution_count": 15,
   "metadata": {},
   "outputs": [
    {
     "data": {
      "text/html": [
       "<div>\n",
       "<style scoped>\n",
       "    .dataframe tbody tr th:only-of-type {\n",
       "        vertical-align: middle;\n",
       "    }\n",
       "\n",
       "    .dataframe tbody tr th {\n",
       "        vertical-align: top;\n",
       "    }\n",
       "\n",
       "    .dataframe thead th {\n",
       "        text-align: right;\n",
       "    }\n",
       "</style>\n",
       "<table border=\"1\" class=\"dataframe\">\n",
       "  <thead>\n",
       "    <tr style=\"text-align: right;\">\n",
       "      <th></th>\n",
       "      <th>First Score</th>\n",
       "      <th>Second Score</th>\n",
       "      <th>Third Score</th>\n",
       "      <th>Fourth Score</th>\n",
       "    </tr>\n",
       "  </thead>\n",
       "  <tbody>\n",
       "    <tr>\n",
       "      <th>3</th>\n",
       "      <td>95.0</td>\n",
       "      <td>56.0</td>\n",
       "      <td>98</td>\n",
       "      <td>65.0</td>\n",
       "    </tr>\n",
       "  </tbody>\n",
       "</table>\n",
       "</div>"
      ],
      "text/plain": [
       "   First Score  Second Score  Third Score  Fourth Score\n",
       "3         95.0          56.0           98          65.0"
      ]
     },
     "execution_count": 15,
     "metadata": {},
     "output_type": "execute_result"
    }
   ],
   "source": [
    "#now we have to drop the rows which contain at least one value\n",
    "# importing pandas as pd\n",
    "import pandas as pd\n",
    " \n",
    "# importing numpy as np\n",
    "import numpy as np\n",
    " \n",
    "# dictionary of lists\n",
    "dict = {'First Score':[100, 90, np.nan, 95],\n",
    "        'Second Score': [30, np.nan, 45, 56],\n",
    "        'Third Score':[52, 40, 80, 98],\n",
    "        'Fourth Score':[np.nan, np.nan, np.nan, 65]}\n",
    " \n",
    "# creating a dataframe from dictionary\n",
    "df = pd.DataFrame(dict)\n",
    " \n",
    "# using dropna() function  \n",
    "df.dropna()"
   ]
  },
  {
   "cell_type": "code",
   "execution_count": 16,
   "metadata": {},
   "outputs": [
    {
     "data": {
      "text/html": [
       "<div>\n",
       "<style scoped>\n",
       "    .dataframe tbody tr th:only-of-type {\n",
       "        vertical-align: middle;\n",
       "    }\n",
       "\n",
       "    .dataframe tbody tr th {\n",
       "        vertical-align: top;\n",
       "    }\n",
       "\n",
       "    .dataframe thead th {\n",
       "        text-align: right;\n",
       "    }\n",
       "</style>\n",
       "<table border=\"1\" class=\"dataframe\">\n",
       "  <thead>\n",
       "    <tr style=\"text-align: right;\">\n",
       "      <th></th>\n",
       "      <th>First Score</th>\n",
       "      <th>Second Score</th>\n",
       "      <th>Third Score</th>\n",
       "    </tr>\n",
       "  </thead>\n",
       "  <tbody>\n",
       "    <tr>\n",
       "      <th>0</th>\n",
       "      <td>100.0</td>\n",
       "      <td>30.0</td>\n",
       "      <td>0.0</td>\n",
       "    </tr>\n",
       "    <tr>\n",
       "      <th>1</th>\n",
       "      <td>90.0</td>\n",
       "      <td>45.0</td>\n",
       "      <td>40.0</td>\n",
       "    </tr>\n",
       "    <tr>\n",
       "      <th>2</th>\n",
       "      <td>0.0</td>\n",
       "      <td>56.0</td>\n",
       "      <td>80.0</td>\n",
       "    </tr>\n",
       "    <tr>\n",
       "      <th>3</th>\n",
       "      <td>95.0</td>\n",
       "      <td>0.0</td>\n",
       "      <td>98.0</td>\n",
       "    </tr>\n",
       "  </tbody>\n",
       "</table>\n",
       "</div>"
      ],
      "text/plain": [
       "   First Score  Second Score  Third Score\n",
       "0        100.0          30.0          0.0\n",
       "1         90.0          45.0         40.0\n",
       "2          0.0          56.0         80.0\n",
       "3         95.0           0.0         98.0"
      ]
     },
     "execution_count": 16,
     "metadata": {},
     "output_type": "execute_result"
    }
   ],
   "source": [
    "#In order to fill null values in a datasets,\n",
    "#  we use fillna(), replace() and interpolate() function these function replace NaN values with some value of their own. All these function help in filling a null values in datasets of a DataFrame. \n",
    "# Interpolate() function is basically used to fill NA values in the dataframe but it uses various interpolation technique to fill the missing values rather than hard-coding the value.\n",
    "# importing numpy as np\n",
    "import numpy as np\n",
    " \n",
    "# dictionary of lists\n",
    "dict = {'First Score':[100, 90, np.nan, 95],\n",
    "        'Second Score': [30, 45, 56, np.nan],\n",
    "        'Third Score':[np.nan, 40, 80, 98]}\n",
    " \n",
    "# creating a dataframe from dictionary\n",
    "df = pd.DataFrame(dict)\n",
    " \n",
    "# filling missing value using fillna()  \n",
    "df.fillna(0)"
   ]
  },
  {
   "cell_type": "code",
   "execution_count": 17,
   "metadata": {},
   "outputs": [
    {
     "data": {
      "text/html": [
       "<div>\n",
       "<style scoped>\n",
       "    .dataframe tbody tr th:only-of-type {\n",
       "        vertical-align: middle;\n",
       "    }\n",
       "\n",
       "    .dataframe tbody tr th {\n",
       "        vertical-align: top;\n",
       "    }\n",
       "\n",
       "    .dataframe thead th {\n",
       "        text-align: right;\n",
       "    }\n",
       "</style>\n",
       "<table border=\"1\" class=\"dataframe\">\n",
       "  <thead>\n",
       "    <tr style=\"text-align: right;\">\n",
       "      <th></th>\n",
       "      <th>First Score</th>\n",
       "      <th>Second Score</th>\n",
       "      <th>Third Score</th>\n",
       "    </tr>\n",
       "  </thead>\n",
       "  <tbody>\n",
       "    <tr>\n",
       "      <th>0</th>\n",
       "      <td>False</td>\n",
       "      <td>False</td>\n",
       "      <td>True</td>\n",
       "    </tr>\n",
       "    <tr>\n",
       "      <th>1</th>\n",
       "      <td>False</td>\n",
       "      <td>False</td>\n",
       "      <td>False</td>\n",
       "    </tr>\n",
       "    <tr>\n",
       "      <th>2</th>\n",
       "      <td>True</td>\n",
       "      <td>False</td>\n",
       "      <td>False</td>\n",
       "    </tr>\n",
       "    <tr>\n",
       "      <th>3</th>\n",
       "      <td>False</td>\n",
       "      <td>True</td>\n",
       "      <td>False</td>\n",
       "    </tr>\n",
       "  </tbody>\n",
       "</table>\n",
       "</div>"
      ],
      "text/plain": [
       "   First Score  Second Score  Third Score\n",
       "0        False         False         True\n",
       "1        False         False        False\n",
       "2         True         False        False\n",
       "3        False          True        False"
      ]
     },
     "execution_count": 17,
     "metadata": {},
     "output_type": "execute_result"
    }
   ],
   "source": [
    "#Checking for missing values using isnull() and notnull() :\n",
    "#In order to check missing values in Pandas DataFrame, we use a function isnull() and notnull(). \n",
    "# Both function help in checking whether a value is NaN or not. These function can also be used in Pandas Series in order to find null values in a series.\n",
    "# importing pandas as pd\n",
    "import pandas as pd\n",
    " \n",
    "# importing numpy as np\n",
    "import numpy as np\n",
    " \n",
    "# dictionary of lists\n",
    "dict = {'First Score':[100, 90, np.nan, 95],\n",
    "        'Second Score': [30, 45, 56, np.nan],\n",
    "        'Third Score':[np.nan, 40, 80, 98]}\n",
    " \n",
    "# creating a dataframe from list\n",
    "df = pd.DataFrame(dict)\n",
    " \n",
    "# using isnull() function  \n",
    "df.isnull()"
   ]
  },
  {
   "cell_type": "code",
   "execution_count": 19,
   "metadata": {},
   "outputs": [
    {
     "name": "stdout",
     "output_type": "stream",
     "text": [
      "Team        Boston Celtics\n",
      "Number                28.0\n",
      "Position                SG\n",
      "Age                   22.0\n",
      "Height                 6-5\n",
      "Weight               185.0\n",
      "College      Georgia State\n",
      "Salary           1148640.0\n",
      "Name: R.J. Hunter, dtype: object\n"
     ]
    }
   ],
   "source": [
    "#In order to select a single row using .iloc[], we can pass a single integer to .iloc[]\n",
    "import pandas as pd\n",
    " \n",
    "# making data frame from csv file\n",
    "data = pd.read_csv(\"nba.csv\", index_col =\"Name\")\n",
    " \n",
    " \n",
    "# retrieving rows by iloc method \n",
    "row2 = data.iloc[3]\n",
    "print(row2)"
   ]
  },
  {
   "cell_type": "code",
   "execution_count": 20,
   "metadata": {},
   "outputs": [
    {
     "name": "stdout",
     "output_type": "stream",
     "text": [
      "Team        Boston Celtics\n",
      "Number                 0.0\n",
      "Position                PG\n",
      "Age                   25.0\n",
      "Height                 6-2\n",
      "Weight               180.0\n",
      "College              Texas\n",
      "Salary           7730337.0\n",
      "Name: Avery Bradley, dtype: object \n",
      "\n",
      "\n",
      " Team        Boston Celtics\n",
      "Number                28.0\n",
      "Position                SG\n",
      "Age                   22.0\n",
      "Height                 6-5\n",
      "Weight               185.0\n",
      "College      Georgia State\n",
      "Salary           1148640.0\n",
      "Name: R.J. Hunter, dtype: object\n"
     ]
    }
   ],
   "source": [
    "# importing pandas package\n",
    "import pandas as pd\n",
    " \n",
    "# making data frame from csv file\n",
    "data = pd.read_csv(\"nba.csv\", index_col =\"Name\")\n",
    " \n",
    "# retrieving row by loc method\n",
    "first = data.loc[\"Avery Bradley\"]\n",
    "second = data.loc[\"R.J. Hunter\"]\n",
    " \n",
    " \n",
    "print(first, \"\\n\\n\\n\", second)"
   ]
  },
  {
   "cell_type": "code",
   "execution_count": 7,
   "metadata": {},
   "outputs": [
    {
     "name": "stdout",
     "output_type": "stream",
     "text": [
      "    Name  Age\n",
      "0    Tom   20\n",
      "1   nick   21\n",
      "2  krish   19\n",
      "3   jack   18\n"
     ]
    }
   ],
   "source": [
    "# Python code demonstrate creating \n",
    "# DataFrame from dict narray / lists \n",
    "# By default addresses.\n",
    " \n",
    "import pandas as pd\n",
    " \n",
    "# intialise data of lists.\n",
    "data = {'Name':['Tom', 'nick', 'krish', 'jack'],\n",
    "        'Age':[20, 21, 19, 18]}\n",
    " \n",
    "# Create DataFrame\n",
    "df = pd.DataFrame(data)\n",
    "print(df)"
   ]
  },
  {
   "cell_type": "code",
   "execution_count": 7,
   "metadata": {},
   "outputs": [
    {
     "name": "stdout",
     "output_type": "stream",
     "text": [
      "10    12\n",
      "14    46\n",
      "dtype: int64\n",
      "10    12\n",
      "11    23\n",
      "12    34\n",
      "13    35\n",
      "14    46\n",
      "dtype: int64\n"
     ]
    }
   ],
   "source": [
    "import numpy as np\n",
    "import matplotlib.pyplot as plt\n",
    "import pandas as pd\n",
    "sr=pd.Series(data=[12,23,34,35,46],index=range(10,15))\n",
    "print(sr[[10,14]])\n",
    "print(sr)"
   ]
  },
  {
   "cell_type": "code",
   "execution_count": 22,
   "metadata": {},
   "outputs": [
    {
     "name": "stdout",
     "output_type": "stream",
     "text": [
      "        Tag  number\n",
      "0      Geek      25\n",
      "1        is      30\n",
      "2       for      26\n",
      "3  forgeeks      22\n"
     ]
    }
   ],
   "source": [
    "#ques creating a two dimensional data frame\n",
    "# import pandas as pd \n",
    "import pandas as pd  \n",
    "      \n",
    "# List1  \n",
    "lst = [['Geek', 25], ['is', 30], \n",
    "       ['for', 26], ['forgeeks', 22]] \n",
    "  \n",
    "# creating df object with columns specified    \n",
    "df = pd.DataFrame(lst, columns =['Tag', 'number']) \n",
    "print(df )"
   ]
  },
  {
   "cell_type": "code",
   "execution_count": 24,
   "metadata": {},
   "outputs": [
    {
     "data": {
      "text/html": [
       "<div>\n",
       "<style scoped>\n",
       "    .dataframe tbody tr th:only-of-type {\n",
       "        vertical-align: middle;\n",
       "    }\n",
       "\n",
       "    .dataframe tbody tr th {\n",
       "        vertical-align: top;\n",
       "    }\n",
       "\n",
       "    .dataframe thead th {\n",
       "        text-align: right;\n",
       "    }\n",
       "</style>\n",
       "<table border=\"1\" class=\"dataframe\">\n",
       "  <thead>\n",
       "    <tr style=\"text-align: right;\">\n",
       "      <th></th>\n",
       "      <th>index</th>\n",
       "      <th>Name</th>\n",
       "      <th>Age</th>\n",
       "      <th>Address</th>\n",
       "      <th>Qualification</th>\n",
       "    </tr>\n",
       "  </thead>\n",
       "  <tbody>\n",
       "    <tr>\n",
       "      <th>0</th>\n",
       "      <td>b</td>\n",
       "      <td>Jai</td>\n",
       "      <td>27</td>\n",
       "      <td>Delhi</td>\n",
       "      <td>Msc</td>\n",
       "    </tr>\n",
       "    <tr>\n",
       "      <th>1</th>\n",
       "      <td>d</td>\n",
       "      <td>Princi</td>\n",
       "      <td>24</td>\n",
       "      <td>Kanpur</td>\n",
       "      <td>MA</td>\n",
       "    </tr>\n",
       "    <tr>\n",
       "      <th>2</th>\n",
       "      <td>c</td>\n",
       "      <td>Gaurav</td>\n",
       "      <td>22</td>\n",
       "      <td>Allahabad</td>\n",
       "      <td>MCA</td>\n",
       "    </tr>\n",
       "    <tr>\n",
       "      <th>3</th>\n",
       "      <td>a</td>\n",
       "      <td>Anuj</td>\n",
       "      <td>32</td>\n",
       "      <td>Kannauj</td>\n",
       "      <td>Phd</td>\n",
       "    </tr>\n",
       "    <tr>\n",
       "      <th>4</th>\n",
       "      <td>e</td>\n",
       "      <td>Geeku</td>\n",
       "      <td>15</td>\n",
       "      <td>Noida</td>\n",
       "      <td>10th</td>\n",
       "    </tr>\n",
       "  </tbody>\n",
       "</table>\n",
       "</div>"
      ],
      "text/plain": [
       "  index    Name  Age    Address Qualification\n",
       "0     b     Jai   27      Delhi           Msc\n",
       "1     d  Princi   24     Kanpur            MA\n",
       "2     c  Gaurav   22  Allahabad           MCA\n",
       "3     a    Anuj   32    Kannauj           Phd\n",
       "4     e   Geeku   15      Noida          10th"
      ]
     },
     "execution_count": 24,
     "metadata": {},
     "output_type": "execute_result"
    }
   ],
   "source": [
    "#make your own index without removing deafult index\n",
    "import pandas as pd\n",
    "    \n",
    "# Define a dictionary containing employee data\n",
    "data = {'Name':['Jai', 'Princi', 'Gaurav', 'Anuj', 'Geeku'],\n",
    "        'Age':[27, 24, 22, 32, 15],\n",
    "        'Address':['Delhi', 'Kanpur', 'Allahabad', 'Kannauj', 'Noida'],\n",
    "        'Qualification':['Msc', 'MA', 'MCA', 'Phd', '10th'] }\n",
    "  \n",
    "index = {'a', 'b', 'c', 'd', 'e'}\n",
    "  \n",
    "# Convert the dictionary into DataFrame \n",
    "df = pd.DataFrame(data, index)\n",
    "  \n",
    "# Make Own Index as index\n",
    "# In this case default index is exist \n",
    "df.reset_index(inplace = True)\n",
    "  \n",
    "df\n"
   ]
  },
  {
   "cell_type": "code",
   "execution_count": 25,
   "metadata": {},
   "outputs": [
    {
     "data": {
      "text/html": [
       "<div>\n",
       "<style scoped>\n",
       "    .dataframe tbody tr th:only-of-type {\n",
       "        vertical-align: middle;\n",
       "    }\n",
       "\n",
       "    .dataframe tbody tr th {\n",
       "        vertical-align: top;\n",
       "    }\n",
       "\n",
       "    .dataframe thead th {\n",
       "        text-align: right;\n",
       "    }\n",
       "</style>\n",
       "<table border=\"1\" class=\"dataframe\">\n",
       "  <thead>\n",
       "    <tr style=\"text-align: right;\">\n",
       "      <th></th>\n",
       "      <th>Name</th>\n",
       "      <th>Age</th>\n",
       "      <th>Address</th>\n",
       "      <th>Qualification</th>\n",
       "    </tr>\n",
       "  </thead>\n",
       "  <tbody>\n",
       "    <tr>\n",
       "      <th>b</th>\n",
       "      <td>Jai</td>\n",
       "      <td>27</td>\n",
       "      <td>Delhi</td>\n",
       "      <td>Msc</td>\n",
       "    </tr>\n",
       "    <tr>\n",
       "      <th>d</th>\n",
       "      <td>Princi</td>\n",
       "      <td>24</td>\n",
       "      <td>Kanpur</td>\n",
       "      <td>MA</td>\n",
       "    </tr>\n",
       "    <tr>\n",
       "      <th>c</th>\n",
       "      <td>Gaurav</td>\n",
       "      <td>22</td>\n",
       "      <td>Allahabad</td>\n",
       "      <td>MCA</td>\n",
       "    </tr>\n",
       "    <tr>\n",
       "      <th>a</th>\n",
       "      <td>Anuj</td>\n",
       "      <td>32</td>\n",
       "      <td>Kannauj</td>\n",
       "      <td>Phd</td>\n",
       "    </tr>\n",
       "    <tr>\n",
       "      <th>e</th>\n",
       "      <td>Geeku</td>\n",
       "      <td>15</td>\n",
       "      <td>Noida</td>\n",
       "      <td>10th</td>\n",
       "    </tr>\n",
       "  </tbody>\n",
       "</table>\n",
       "</div>"
      ],
      "text/plain": [
       "     Name  Age    Address Qualification\n",
       "b     Jai   27      Delhi           Msc\n",
       "d  Princi   24     Kanpur            MA\n",
       "c  Gaurav   22  Allahabad           MCA\n",
       "a    Anuj   32    Kannauj           Phd\n",
       "e   Geeku   15      Noida          10th"
      ]
     },
     "execution_count": 25,
     "metadata": {},
     "output_type": "execute_result"
    }
   ],
   "source": [
    "#make your own index removing the default index\n",
    "import pandas as pd\n",
    "    \n",
    "# Define a dictionary containing employee data\n",
    "data = {'Name':['Jai', 'Princi', 'Gaurav', 'Anuj', 'Geeku'],\n",
    "        'Age':[27, 24, 22, 32, 15],\n",
    "        'Address':['Delhi', 'Kanpur', 'Allahabad', 'Kannauj', 'Noida'],\n",
    "        'Qualification':['Msc', 'MA', 'MCA', 'Phd', '10th'] }\n",
    "  \n",
    "# Create own index\n",
    "index = {'a', 'b', 'c', 'd', 'e'}\n",
    "  \n",
    "# Convert the dictionary into DataFrame \n",
    "# Make Own Index and Removing Default index\n",
    "df = pd.DataFrame(data, index)\n",
    "  \n",
    "df"
   ]
  },
  {
   "cell_type": "code",
   "execution_count": 8,
   "metadata": {},
   "outputs": [
    {
     "ename": "KeyError",
     "evalue": "'key of type tuple not found and not a MultiIndex'",
     "output_type": "error",
     "traceback": [
      "\u001b[1;31m---------------------------------------------------------------------------\u001b[0m",
      "\u001b[1;31mKeyError\u001b[0m                                  Traceback (most recent call last)",
      "\u001b[1;32mc:\\Users\\ANANYA AGRAWAL\\OneDrive\\Desktop\\python tutorial\\pandas\\pan.ipynb Cell 2'\u001b[0m in \u001b[0;36m<module>\u001b[1;34m\u001b[0m\n\u001b[0;32m      <a href='vscode-notebook-cell:/c%3A/Users/ANANYA%20AGRAWAL/OneDrive/Desktop/python%20tutorial/pandas/pan.ipynb#ch0000001?line=2'>3</a>\u001b[0m \u001b[39mimport\u001b[39;00m \u001b[39mpandas\u001b[39;00m \u001b[39mas\u001b[39;00m \u001b[39mpd\u001b[39;00m\n\u001b[0;32m      <a href='vscode-notebook-cell:/c%3A/Users/ANANYA%20AGRAWAL/OneDrive/Desktop/python%20tutorial/pandas/pan.ipynb#ch0000001?line=3'>4</a>\u001b[0m sr\u001b[39m=\u001b[39mpd\u001b[39m.\u001b[39mSeries(data\u001b[39m=\u001b[39m[\u001b[39m'\u001b[39m\u001b[39mKGF\u001b[39m\u001b[39m'\u001b[39m,\u001b[39m'\u001b[39m\u001b[39mRRR\u001b[39m\u001b[39m'\u001b[39m,\u001b[39m'\u001b[39m\u001b[39mPOS\u001b[39m\u001b[39m'\u001b[39m,\u001b[39m'\u001b[39m\u001b[39mDDLJ\u001b[39m\u001b[39m'\u001b[39m,\u001b[39m'\u001b[39m\u001b[39mHNY\u001b[39m\u001b[39m'\u001b[39m],index\u001b[39m=\u001b[39m(\u001b[39m'\u001b[39m\u001b[39m****\u001b[39m\u001b[39m'\u001b[39m,\u001b[39m'\u001b[39m\u001b[39m****\u001b[39m\u001b[39m'\u001b[39m,\u001b[39m'\u001b[39m\u001b[39m*****\u001b[39m\u001b[39m'\u001b[39m,\u001b[39m'\u001b[39m\u001b[39m**\u001b[39m\u001b[39m'\u001b[39m,\u001b[39m'\u001b[39m\u001b[39m*\u001b[39m\u001b[39m'\u001b[39m))\n\u001b[1;32m----> <a href='vscode-notebook-cell:/c%3A/Users/ANANYA%20AGRAWAL/OneDrive/Desktop/python%20tutorial/pandas/pan.ipynb#ch0000001?line=4'>5</a>\u001b[0m \u001b[39mprint\u001b[39m(sr[\u001b[39m'\u001b[39;49m\u001b[39m****\u001b[39;49m\u001b[39m'\u001b[39;49m,\u001b[39m'\u001b[39;49m\u001b[39m*\u001b[39;49m\u001b[39m'\u001b[39;49m])\n",
      "File \u001b[1;32mC:\\python 3.9.0\\lib\\site-packages\\pandas\\core\\series.py:984\u001b[0m, in \u001b[0;36mSeries.__getitem__\u001b[1;34m(self, key)\u001b[0m\n\u001b[0;32m    <a href='file:///c%3A/python%203.9.0/lib/site-packages/pandas/core/series.py?line=980'>981</a>\u001b[0m     key \u001b[39m=\u001b[39m np\u001b[39m.\u001b[39masarray(key, dtype\u001b[39m=\u001b[39m\u001b[39mbool\u001b[39m)\n\u001b[0;32m    <a href='file:///c%3A/python%203.9.0/lib/site-packages/pandas/core/series.py?line=981'>982</a>\u001b[0m     \u001b[39mreturn\u001b[39;00m \u001b[39mself\u001b[39m\u001b[39m.\u001b[39m_get_values(key)\n\u001b[1;32m--> <a href='file:///c%3A/python%203.9.0/lib/site-packages/pandas/core/series.py?line=983'>984</a>\u001b[0m \u001b[39mreturn\u001b[39;00m \u001b[39mself\u001b[39;49m\u001b[39m.\u001b[39;49m_get_with(key)\n",
      "File \u001b[1;32mC:\\python 3.9.0\\lib\\site-packages\\pandas\\core\\series.py:999\u001b[0m, in \u001b[0;36mSeries._get_with\u001b[1;34m(self, key)\u001b[0m\n\u001b[0;32m    <a href='file:///c%3A/python%203.9.0/lib/site-packages/pandas/core/series.py?line=993'>994</a>\u001b[0m     \u001b[39mraise\u001b[39;00m \u001b[39mTypeError\u001b[39;00m(\n\u001b[0;32m    <a href='file:///c%3A/python%203.9.0/lib/site-packages/pandas/core/series.py?line=994'>995</a>\u001b[0m         \u001b[39m\"\u001b[39m\u001b[39mIndexing a Series with DataFrame is not \u001b[39m\u001b[39m\"\u001b[39m\n\u001b[0;32m    <a href='file:///c%3A/python%203.9.0/lib/site-packages/pandas/core/series.py?line=995'>996</a>\u001b[0m         \u001b[39m\"\u001b[39m\u001b[39msupported, use the appropriate DataFrame column\u001b[39m\u001b[39m\"\u001b[39m\n\u001b[0;32m    <a href='file:///c%3A/python%203.9.0/lib/site-packages/pandas/core/series.py?line=996'>997</a>\u001b[0m     )\n\u001b[0;32m    <a href='file:///c%3A/python%203.9.0/lib/site-packages/pandas/core/series.py?line=997'>998</a>\u001b[0m \u001b[39melif\u001b[39;00m \u001b[39misinstance\u001b[39m(key, \u001b[39mtuple\u001b[39m):\n\u001b[1;32m--> <a href='file:///c%3A/python%203.9.0/lib/site-packages/pandas/core/series.py?line=998'>999</a>\u001b[0m     \u001b[39mreturn\u001b[39;00m \u001b[39mself\u001b[39;49m\u001b[39m.\u001b[39;49m_get_values_tuple(key)\n\u001b[0;32m   <a href='file:///c%3A/python%203.9.0/lib/site-packages/pandas/core/series.py?line=1000'>1001</a>\u001b[0m \u001b[39melif\u001b[39;00m \u001b[39mnot\u001b[39;00m is_list_like(key):\n\u001b[0;32m   <a href='file:///c%3A/python%203.9.0/lib/site-packages/pandas/core/series.py?line=1001'>1002</a>\u001b[0m     \u001b[39m# e.g. scalars that aren't recognized by lib.is_scalar, GH#32684\u001b[39;00m\n\u001b[0;32m   <a href='file:///c%3A/python%203.9.0/lib/site-packages/pandas/core/series.py?line=1002'>1003</a>\u001b[0m     \u001b[39mreturn\u001b[39;00m \u001b[39mself\u001b[39m\u001b[39m.\u001b[39mloc[key]\n",
      "File \u001b[1;32mC:\\python 3.9.0\\lib\\site-packages\\pandas\\core\\series.py:1034\u001b[0m, in \u001b[0;36mSeries._get_values_tuple\u001b[1;34m(self, key)\u001b[0m\n\u001b[0;32m   <a href='file:///c%3A/python%203.9.0/lib/site-packages/pandas/core/series.py?line=1030'>1031</a>\u001b[0m     \u001b[39mreturn\u001b[39;00m result\n\u001b[0;32m   <a href='file:///c%3A/python%203.9.0/lib/site-packages/pandas/core/series.py?line=1032'>1033</a>\u001b[0m \u001b[39mif\u001b[39;00m \u001b[39mnot\u001b[39;00m \u001b[39misinstance\u001b[39m(\u001b[39mself\u001b[39m\u001b[39m.\u001b[39mindex, MultiIndex):\n\u001b[1;32m-> <a href='file:///c%3A/python%203.9.0/lib/site-packages/pandas/core/series.py?line=1033'>1034</a>\u001b[0m     \u001b[39mraise\u001b[39;00m \u001b[39mKeyError\u001b[39;00m(\u001b[39m\"\u001b[39m\u001b[39mkey of type tuple not found and not a MultiIndex\u001b[39m\u001b[39m\"\u001b[39m)\n\u001b[0;32m   <a href='file:///c%3A/python%203.9.0/lib/site-packages/pandas/core/series.py?line=1035'>1036</a>\u001b[0m \u001b[39m# If key is contained, would have returned by now\u001b[39;00m\n\u001b[0;32m   <a href='file:///c%3A/python%203.9.0/lib/site-packages/pandas/core/series.py?line=1036'>1037</a>\u001b[0m indexer, new_index \u001b[39m=\u001b[39m \u001b[39mself\u001b[39m\u001b[39m.\u001b[39mindex\u001b[39m.\u001b[39mget_loc_level(key)\n",
      "\u001b[1;31mKeyError\u001b[0m: 'key of type tuple not found and not a MultiIndex'"
     ]
    }
   ],
   "source": [
    "import numpy as np\n",
    "import matplotlib.pyplot as plt\n",
    "import pandas as pd\n",
    "sr=pd.Series(data=['KGF','RRR','POS','DDLJ','HNY'],index=('****','****','*****','**','*'))\n",
    "print(sr['****','*'])"
   ]
  },
  {
   "cell_type": "code",
   "execution_count": 10,
   "metadata": {},
   "outputs": [
    {
     "name": "stdout",
     "output_type": "stream",
     "text": [
      "1    10.0\n",
      "2    20.0\n",
      "3    30.0\n",
      "4    40.0\n",
      "5     NaN\n",
      "dtype: float64\n"
     ]
    }
   ],
   "source": [
    "import numpy as np\n",
    "import matplotlib.pyplot as plt\n",
    "import pandas as pd\n",
    "sr=pd.Series(data={1:10,2:20,3:30,4:40,6:50},index=[1,2,3,4,5])# if the index value is not present then it will return nan\n",
    "print(sr)"
   ]
  },
  {
   "cell_type": "code",
   "execution_count": 25,
   "metadata": {},
   "outputs": [
    {
     "name": "stdout",
     "output_type": "stream",
     "text": [
      "   year  students  faculty  placements\n",
      "0  2015      2000      150        2000\n",
      "1  2016      3000      170        2800\n",
      "2  2017      4000      200        1000\n",
      "3  2018      3200      150         400\n",
      "4  2019      2100      100         100\n",
      "5  2020       800       30          40\n",
      "6  2021       400       10         400\n",
      "2800\n",
      "0    2015\n",
      "1    2016\n",
      "2    2017\n",
      "3    2018\n",
      "4    2019\n",
      "5    2020\n",
      "6    2021\n",
      "Name: year, dtype: int64\n",
      "   year  placements\n",
      "0  2015        2000\n",
      "1  2016        2800\n",
      "2  2017        1000\n",
      "3  2018         400\n",
      "4  2019         100\n",
      "5  2020          40\n",
      "6  2021         400\n"
     ]
    },
    {
     "data": {
      "image/png": "[encoded data removed]",
      "text/plain": [
       "<Figure size 432x288 with 1 Axes>"
      ]
     },
     "metadata": {
      "needs_background": "light"
     },
     "output_type": "display_data"
    }
   ],
   "source": [
    "import numpy as np\n",
    "import matplotlib.pyplot as plt\n",
    "import pandas as pd\n",
    "clg={\"year\":[2015,2016,2017,2018,2019,2020,2021],\"students\":[2000,3000,4000,3200,2100,800,400],\"faculty\":[150,170,200,150,100,30,10],\"placements\":[2000,2800,1000,400,100,40,400]}\n",
    "df=pd.DataFrame(clg)\n",
    "print(df)\n",
    "print(df[\"placements\"].max())\n",
    "print(df[\"year\"])\n",
    "#we can also access year in the different way too\n",
    "#print(df.year)\n",
    "#but the benefit of using the round bracket is that we can access the two things\n",
    "print(df[[\"year\",\"placements\"]])\n",
    "plt.plot(df.year,df.placements,label=\"placement\")\n",
    "plt.xlabel(\"years\")\n",
    "plt.ylabel(\"placements\")\n",
    "plt.legend()\n",
    "plt.title(\"placement record\")\n",
    "plt.grid()\n",
    "plt.tight_layout()\n",
    "plt.show()"
   ]
  },
  {
   "cell_type": "code",
   "execution_count": 28,
   "metadata": {},
   "outputs": [
    {
     "name": "stdout",
     "output_type": "stream",
     "text": [
      "   year  students  faculty  placements\n",
      "0  2015      2000      150        2000\n",
      "1  2016      3000      170        2800\n",
      "2  2017      4000      200        1000\n",
      "3  2018      3200      150         400\n",
      "4  2019      2100      100         100\n",
      "5  2020       800       30          40\n",
      "6  2021       400       10         400\n",
      "2800\n",
      "0    2015\n",
      "1    2016\n",
      "2    2017\n",
      "3    2018\n",
      "4    2019\n",
      "5    2020\n",
      "6    2021\n",
      "Name: year, dtype: int64\n",
      "   year  placements\n",
      "0  2015        2000\n",
      "1  2016        2800\n",
      "2  2017        1000\n",
      "3  2018         400\n",
      "4  2019         100\n",
      "5  2020          40\n",
      "6  2021         400\n"
     ]
    },
    {
     "data": {
      "image/png": "[encoded data removed]",
      "text/plain": [
       "<Figure size 432x288 with 2 Axes>"
      ]
     },
     "metadata": {
      "needs_background": "light"
     },
     "output_type": "display_data"
    }
   ],
   "source": [
    "import numpy as np\n",
    "import matplotlib.pyplot as plt\n",
    "import pandas as pd\n",
    "clg={\"year\":[2015,2016,2017,2018,2019,2020,2021],\"students\":[2000,3000,4000,3200,2100,800,400],\"faculty\":[150,170,200,150,100,30,10],\"placements\":[2000,2800,1000,400,100,40,400]}\n",
    "df=pd.DataFrame(clg)\n",
    "print(df)\n",
    "print(df[\"placements\"].max())\n",
    "print(df[\"year\"])\n",
    "#we can also access year in the different way too\n",
    "#print(df.year)\n",
    "#but the benefit of using the round bracket is that we can access the two things\n",
    "print(df[[\"year\",\"placements\"]])\n",
    "fig,ax=plt.subplots(2)\n",
    "ax[0].plot(df.year,df.placements,label=\"placements\")\n",
    "ax[1].plot(df.year,df.students,label=\"students\")\n",
    "ax[0].set_xlabel(\"year\")\n",
    "ax[0].set_ylabel(\"placements\")\n",
    "ax[1].set_xlabel(\"year\")\n",
    "ax[1].set_ylabel(\"students\")\n",
    "plt.suptitle(\"studentrecord\")\n",
    "plt.legend()\n",
    "plt.title(\"placement record\")\n",
    "plt.grid()\n",
    "plt.tight_layout()\n",
    "plt.show()"
   ]
  },
  {
   "cell_type": "code",
   "execution_count": 38,
   "metadata": {},
   "outputs": [
    {
     "name": "stdout",
     "output_type": "stream",
     "text": [
      "   year  students  faculty  placements\n",
      "0  2015      2000      150        2000\n",
      "1  2016      3000      170        2800\n",
      "2  2017      4000      200        1000\n",
      "3  2018      3200      150         400\n",
      "4  2019      2100      100         100\n",
      "5  2020       800       30          40\n",
      "6  2021       400       10         400\n",
      "year          2018\n",
      "students      3200\n",
      "faculty        150\n",
      "placements     400\n",
      "Name: 3, dtype: int64\n",
      "   year  students  faculty  placements\n",
      "0  2015      2000      150        2000\n",
      "1  2016      3000      170        2800\n",
      "2  2017      4000      200        1000\n",
      "3  2018      3200      150         400\n",
      "4  2019      2100      100         100\n",
      "5  2020       800       30          40\n",
      "6  2021       400       40         400\n",
      "7  2022       500       40         500\n"
     ]
    }
   ],
   "source": [
    "import numpy as np\n",
    "import matplotlib.pyplot as plt\n",
    "import pandas as pd\n",
    "clg={\"year\":[2015,2016,2017,2018,2019,2020,2021],\"students\":[2000,3000,4000,3200,2100,800,400],\"faculty\":[150,170,200,150,100,30,10],\"placements\":[2000,2800,1000,400,100,40,400]}\n",
    "df=pd.DataFrame(clg)\n",
    "print(df)\n",
    "df[\"stu&fac\"]=df[\"students\"]+df[\"faculty\"]\n",
    "#print(df.iloc[1])#used for accessing the particular row\n",
    "df.loc[6]=[2021,400,40,400,440]#used for adding the new row\n",
    "df.loc[7]=[2022,500,40,500,540]\n",
    "#del(df[\"stu&fac\"])#used to delete the particular column\n",
    "#res=df.drop(5)#drop return the new data frame dont make changes in old data frame\n",
    "#print(res)\n",
    "#df.drop(5,inplace=True)#it make changes in actual dataframe\n",
    "df.drop(\"stu&fac\",axis=1,inplace=True)\n",
    "print(df.iloc[3])\n",
    "print(df)\n"
   ]
  },
  {
   "cell_type": "code",
   "execution_count": 11,
   "metadata": {},
   "outputs": [
    {
     "name": "stdout",
     "output_type": "stream",
     "text": [
      "   eid      fname  salary   did\n",
      "3  103  Alexander    9000  60.0\n",
      "4  104      Bruce    6000  60.0\n",
      "5  105      David    4800  60.0\n",
      "6  106      Valli    4800  60.0\n",
      "7  107      Diana    4200  60.0\n"
     ]
    }
   ],
   "source": [
    "import pandas as pd\n",
    "import numpy as np\n",
    "import matplotlib.pyplot as plt\n",
    "emp=pd.read_csv(\"employee.csv\")\n",
    "'''print(emp.info())\n",
    "print(emp.dtypes)\n",
    "print(emp.columns)\n",
    "print(emp.values)\n",
    "print(len(emp))\n",
    "print(list(emp.index))\n",
    "print(emp.shape)\n",
    "print(emp.head(2))#for displaying the top two index\n",
    "print(emp.tail(2))\n",
    "print(emp.iloc[50])\n",
    "print(emp.iloc[2:10,:3])'''\n",
    "#multi row functions\n",
    "'''print(f\"\"\"\n",
    "{emp[\"salary\"].max()}\n",
    "{emp[\"salary\"].min()}\n",
    "{emp[\"salary\"].mean()}\n",
    "{emp[\"salary\"].sum()}\n",
    "{emp[\"salary\"].count()}\n",
    "\"\"\")\n",
    "print(emp[\"salary\"].describe())# for describing the particular column\n",
    "print(emp.describe())#for describing all columns\n",
    "'''\n",
    "\n",
    "#res=emp[[\"eid\",\"fname\",\"salary\"]]\n",
    "#res=(emp[emp[\"did\"]==60])[[\"eid\",\"fname\",\"salary\",\"did\"]]\n",
    "res=(emp[emp[\"did\"]==60)[[\"eid\",\"fname\",\"salary\",\"did\"]]\n",
    "print(res)"
   ]
  },
  {
   "cell_type": "code",
   "execution_count": 20,
   "metadata": {},
   "outputs": [
    {
     "name": "stdout",
     "output_type": "stream",
     "text": [
      "   eid       Name         Hd   Job_Id  Salary    Did  Department_Id\n",
      "3  103  Alexander 1990-01-03  IT_PROG    9000  102.0           60.0\n",
      "4  104      Bruce 1991-05-21  IT_PROG    6000  103.0           60.0\n",
      "5  105      David 1997-06-25  IT_PROG    4800  103.0           60.0\n",
      "6  106      Valli 1998-02-05  IT_PROG    4800  103.0           60.0\n",
      "7  107      Diana 1999-02-07  IT_PROG    4200  103.0           60.0\n"
     ]
    }
   ],
   "source": [
    "import pandas as pd\n",
    "import numpy as np\n",
    "import matplotlib.pyplot as plt\n",
    "Ems=pd.ExcelFile(\"Ems.xlsx\",engine=\"openpyxl\")\n",
    "emp=pd.read_excel(Ems,\"Sheet1\").rename(columns={\"Employee_Id\":\"eid\",\"Hire_Date\":\"Hd\",\"Manager_Id\":\"Did\"})\n",
    "df=emp[emp[\"Department_Id\"]==60]\n",
    "df.to_csv(\"dept60.csv\",index=False)\n",
    "print(df)"
   ]
  },
  {
   "cell_type": "code",
   "execution_count": 15,
   "metadata": {},
   "outputs": [
    {
     "ename": "TypeError",
     "evalue": "__init__() takes 1 positional argument but 5 were given",
     "output_type": "error",
     "traceback": [
      "\u001b[1;31m---------------------------------------------------------------------------\u001b[0m",
      "\u001b[1;31mTypeError\u001b[0m                                 Traceback (most recent call last)",
      "\u001b[1;32mc:\\Users\\ANANYA AGRAWAL\\OneDrive\\Desktop\\python tutorial\\pandas\\pan.ipynb Cell 9'\u001b[0m in \u001b[0;36m<module>\u001b[1;34m\u001b[0m\n\u001b[0;32m      <a href='vscode-notebook-cell:/c%3A/Users/ANANYA%20AGRAWAL/OneDrive/Desktop/python%20tutorial/pandas/pan.ipynb#ch0000008?line=2'>3</a>\u001b[0m \u001b[39mimport\u001b[39;00m \u001b[39mmatplotlib\u001b[39;00m\u001b[39m.\u001b[39;00m\u001b[39mpyplot\u001b[39;00m \u001b[39mas\u001b[39;00m \u001b[39mplt\u001b[39;00m\n\u001b[0;32m      <a href='vscode-notebook-cell:/c%3A/Users/ANANYA%20AGRAWAL/OneDrive/Desktop/python%20tutorial/pandas/pan.ipynb#ch0000008?line=3'>4</a>\u001b[0m \u001b[39mimport\u001b[39;00m \u001b[39mpymysql\u001b[39;00m \u001b[39mas\u001b[39;00m \u001b[39mdb\u001b[39;00m\n\u001b[1;32m----> <a href='vscode-notebook-cell:/c%3A/Users/ANANYA%20AGRAWAL/OneDrive/Desktop/python%20tutorial/pandas/pan.ipynb#ch0000008?line=4'>5</a>\u001b[0m conn\u001b[39m=\u001b[39mdb\u001b[39m.\u001b[39;49mconnect(\u001b[39m\"\u001b[39;49m\u001b[39mlocalhost\u001b[39;49m\u001b[39m\"\u001b[39;49m,\u001b[39m\"\u001b[39;49m\u001b[39mroot\u001b[39;49m\u001b[39m\"\u001b[39;49m,\u001b[39m\"\u001b[39;49m\u001b[39m\"\u001b[39;49m,\u001b[39m\"\u001b[39;49m\u001b[39mpincore\u001b[39;49m\u001b[39m\"\u001b[39;49m)\n\u001b[0;32m      <a href='vscode-notebook-cell:/c%3A/Users/ANANYA%20AGRAWAL/OneDrive/Desktop/python%20tutorial/pandas/pan.ipynb#ch0000008?line=5'>6</a>\u001b[0m cardetails\u001b[39m=\u001b[39mpd\u001b[39m.\u001b[39mread_sql(\u001b[39m\"\u001b[39m\u001b[39mselect *from carsale\u001b[39m\u001b[39m\"\u001b[39m,conn)\n\u001b[0;32m      <a href='vscode-notebook-cell:/c%3A/Users/ANANYA%20AGRAWAL/OneDrive/Desktop/python%20tutorial/pandas/pan.ipynb#ch0000008?line=6'>7</a>\u001b[0m \u001b[39mprint\u001b[39m(cardetails)\n",
      "\u001b[1;31mTypeError\u001b[0m: __init__() takes 1 positional argument but 5 were given"
     ]
    }
   ],
   "source": [
    "import pandas as pd\n",
    "import numpy as np\n",
    "import matplotlib.pyplot as plt\n",
    "import pymysql as db\n",
    "conn=db.connect(\"localhost\",\"root\",\"\",\"pincore\")\n",
    "cardetails=pd.read_sql(\"select *from carsale\",conn)\n",
    "print(cardetails)"
   ]
  },
  {
   "cell_type": "code",
   "execution_count": 5,
   "metadata": {},
   "outputs": [
    {
     "name": "stdout",
     "output_type": "stream",
     "text": [
      "Empty DataFrame\n",
      "Columns: [Employee_Id, Name, Hire_Date, Job_Id, Salary, Manager_Id, Department_Id]\n",
      "Index: []\n",
      "     Employee_Id         Name  Hire_Date      Job_Id  Salary  Manager_Id  Department_Id\n",
      "0            100       Steven 1987-06-17     AD_PRES   24000         NaN           90.0\n",
      "1            101        Neena 1989-09-21       AD_VP   17000       100.0           90.0\n",
      "2            102          Lex 1993-01-13       AD_VP   17000       100.0           90.0\n",
      "3            103    Alexander 1990-01-03     IT_PROG    9000       102.0           60.0\n",
      "4            104        Bruce 1991-05-21     IT_PROG    6000       103.0           60.0\n",
      "5            105        David 1997-06-25     IT_PROG    4800       103.0           60.0\n",
      "6            106        Valli 1998-02-05     IT_PROG    4800       103.0           60.0\n",
      "7            107        Diana 1999-02-07     IT_PROG    4200       103.0           60.0\n",
      "8            108        Nancy 1994-08-17      FI_MGR   12000       101.0          100.0\n",
      "9            109       Daniel 1994-08-16  FI_ACCOUNT    9000       108.0          100.0\n",
      "10           110         John 1997-09-28  FI_ACCOUNT    8200       108.0          100.0\n",
      "11           111       Ismael 1997-09-30  FI_ACCOUNT    7700       108.0          100.0\n",
      "12           112  Jose Manuel 1998-03-07  FI_ACCOUNT    7800       108.0          100.0\n",
      "13           113         Luis 1999-12-07  FI_ACCOUNT    6900       108.0          100.0\n",
      "14           114          Den 1994-12-07      PU_MAN   11000       100.0           30.0\n",
      "15           115    Alexander 1995-05-18    PU_CLERK    3100       114.0           30.0\n",
      "16           116       Shelli 1997-12-24    PU_CLERK    2900       114.0           30.0\n",
      "17           117        Sigal 1997-07-24    PU_CLERK    2800       114.0           30.0\n",
      "18           118          Guy 1998-11-15    PU_CLERK    2600       114.0           30.0\n",
      "19           119        Karen 1999-08-10    PU_CLERK    2500       114.0           30.0\n",
      "20           120      Matthew 1996-07-18      ST_MAN    8000       100.0           50.0\n",
      "21           121         Adam 1997-04-10      ST_MAN    8200       100.0           50.0\n",
      "22           122        Payam 1995-05-01      ST_MAN    7900       100.0           50.0\n",
      "23           123       Shanta 1997-10-10      ST_MAN    6500       100.0           50.0\n",
      "24           124        Kevin 1999-11-16      ST_MAN    5800       100.0           50.0\n",
      "25           125        Julia 1997-07-16    ST_CLERK    3200       120.0           50.0\n",
      "26           126        Irene 1998-09-28    ST_CLERK    2700       120.0           50.0\n",
      "27           127        James 1999-01-14    ST_CLERK    2400       120.0           50.0\n",
      "28           128       Steven 2000-03-08    ST_CLERK    2200       120.0           50.0\n",
      "29           129        Laura 1997-08-20    ST_CLERK    3300       121.0           50.0\n",
      "30           130        Mozhe 1997-10-30    ST_CLERK    2800       121.0           50.0\n",
      "31           131        James 1997-02-16    ST_CLERK    2500       121.0           50.0\n",
      "32           132           TJ 1999-04-10    ST_CLERK    2100       121.0           50.0\n",
      "33           133        Jason 1996-06-14    ST_CLERK    3300       122.0           50.0\n",
      "34           134      Michael 1998-08-26    ST_CLERK    2900       122.0           50.0\n",
      "35           135           Ki 1999-12-12    ST_CLERK    2400       122.0           50.0\n",
      "36           136        Hazel 2000-02-06    ST_CLERK    2200       122.0           50.0\n",
      "37           137       Renske 1995-07-14    ST_CLERK    3600       123.0           50.0\n",
      "38           138      Stephen 1997-10-26    ST_CLERK    3200       123.0           50.0\n",
      "39           139         John 1998-02-12    ST_CLERK    2700       123.0           50.0\n",
      "40           140       Joshua 1998-04-06    ST_CLERK    2500       123.0           50.0\n",
      "41           141       Trenna 1995-10-17    ST_CLERK    3500       124.0           50.0\n",
      "42           142       Curtis 1997-01-29    ST_CLERK    3100       124.0           50.0\n",
      "43           143      Randall 1998-03-15    ST_CLERK    2600       124.0           50.0\n",
      "44           144        Peter 1998-07-09    ST_CLERK    2500       124.0           50.0\n",
      "45           145         John 1996-10-01      SA_MAN   14000       100.0           80.0\n",
      "46           146        Karen 1997-01-05      SA_MAN   13500       100.0           80.0\n",
      "47           147      Alberto 1997-03-10      SA_MAN   12000       100.0           80.0\n",
      "48           148       Gerald 1999-10-15      SA_MAN   11000       100.0           80.0\n",
      "49           149        Eleni 2000-01-29      SA_MAN   10500       100.0           80.0\n",
      "50           150        Peter 1997-01-30      SA_REP   10000       145.0           80.0\n",
      "51           151        David 1997-03-24      SA_REP    9500       145.0           80.0\n",
      "52           152        Peter 1997-08-20      SA_REP    9000       145.0           80.0\n",
      "53           153  Christopher 1998-03-30      SA_REP    8000       145.0           80.0\n",
      "54           154      Nanette 1998-12-09      SA_REP    7500       145.0           80.0\n",
      "55           155       Oliver 1999-11-23      SA_REP    7000       145.0           80.0\n",
      "56           156      Janette 1996-01-30      SA_REP   10000       146.0           80.0\n",
      "57           157      Patrick 1996-03-04      SA_REP    9500       146.0           80.0\n",
      "58           158        Allan 1996-08-01      SA_REP    9000       146.0           80.0\n",
      "59           159      Lindsey 1997-03-10      SA_REP    8000       146.0           80.0\n",
      "60           160       Louise 1997-12-15      SA_REP    7500       146.0           80.0\n",
      "61           161       Sarath 1998-11-03      SA_REP    7000       146.0           80.0\n",
      "62           162        Clara 1997-11-11      SA_REP   10500       147.0           80.0\n",
      "63           163     Danielle 1999-03-19      SA_REP    9500       147.0           80.0\n",
      "64           164       Mattea 2000-01-24      SA_REP    7200       147.0           80.0\n",
      "65           165        David 2000-02-23      SA_REP    6800       147.0           80.0\n",
      "66           166       Sundar 2000-03-24      SA_REP    6400       147.0           80.0\n",
      "67           167         Amit 2000-04-21      SA_REP    6200       147.0           80.0\n",
      "68           168         Lisa 1997-03-11      SA_REP   11500       148.0           80.0\n",
      "69           169     Harrison 1998-03-23      SA_REP   10000       148.0           80.0\n",
      "70           170       Tayler 1998-01-24      SA_REP    9600       148.0           80.0\n",
      "71           171      William 1999-02-23      SA_REP    7400       148.0           80.0\n",
      "72           172    Elizabeth 1999-03-24      SA_REP    7300       148.0           80.0\n",
      "73           173      Sundita 2000-04-21      SA_REP    6100       148.0           80.0\n",
      "74           174        Ellen 1996-05-11      SA_REP   11000       149.0           80.0\n",
      "75           175       Alyssa 1997-03-19      SA_REP    8800       149.0           80.0\n",
      "76           176     Jonathon 1998-03-24      SA_REP    8600       149.0           80.0\n",
      "77           177         Jack 1998-04-23      SA_REP    8400       149.0           80.0\n",
      "78           178    Kimberely 1999-05-24      SA_REP    7000       149.0            NaN\n",
      "79           179      Charles 2000-01-04      SA_REP    6200       149.0           80.0\n",
      "80           180      Winston 1998-01-24    SH_CLERK    3200       120.0           50.0\n",
      "81           181         Jean 1998-02-23    SH_CLERK    3100       120.0           50.0\n",
      "82           182       Martha 1999-06-21    SH_CLERK    2500       120.0           50.0\n",
      "83           183       Girard 2000-02-03    SH_CLERK    2800       120.0           50.0\n",
      "84           184      Nandita 1996-01-27    SH_CLERK    4200       121.0           50.0\n",
      "85           185       Alexis 1997-02-20    SH_CLERK    4100       121.0           50.0\n",
      "86           186        Julia 1998-06-24    SH_CLERK    3400       121.0           50.0\n",
      "87           187      Anthony 1999-02-07    SH_CLERK    3000       121.0           50.0\n",
      "88           188        Kelly 1997-06-14    SH_CLERK    3800       122.0           50.0\n",
      "89           189     Jennifer 1997-08-13    SH_CLERK    3600       122.0           50.0\n",
      "90           190      Timothy 1998-07-11    SH_CLERK    2900       122.0           50.0\n",
      "91           191      Randall 1999-12-19    SH_CLERK    2500       122.0           50.0\n",
      "92           192        Sarah 1996-02-04    SH_CLERK    4000       123.0           50.0\n",
      "93           193      Britney 1997-03-03    SH_CLERK    3900       123.0           50.0\n",
      "94           194       Samuel 1998-07-01    SH_CLERK    3200       123.0           50.0\n",
      "95           195        Vance 1999-03-17    SH_CLERK    2800       123.0           50.0\n",
      "96           196        Alana 1998-04-24    SH_CLERK    3100       124.0           50.0\n",
      "97           197        Kevin 1998-05-23    SH_CLERK    3000       124.0           50.0\n",
      "98           198       Donald 1999-06-21    SH_CLERK    2600       124.0           50.0\n",
      "99           199      Douglas 2000-01-13    SH_CLERK    2600       124.0           50.0\n",
      "100          200     Jennifer 1987-09-17     AD_ASST    4400       101.0           10.0\n",
      "101          201      Michael 1996-02-17      MK_MAN   13000       100.0           20.0\n",
      "102          202          Pat 1997-08-17      MK_REP    6000       201.0           20.0\n",
      "103          203        Susan 1994-06-07      HR_REP    6500       101.0           40.0\n",
      "104          204      Hermann 1994-06-07      PR_REP   10000       101.0           70.0\n",
      "105          205      Shelley 1994-06-07      AC_MGR   12000       101.0          110.0\n",
      "106          206      William 1994-06-07  AC_ACCOUNT    8300       205.0          110.0\n",
      "107          301        Smith 1989-06-17     IT_PROG   15000       100.0           90.0\n",
      "108          302        _Paul 1993-02-12     IT_PROG   20000       100.0          110.0\n",
      "109          303        Pa%ul 1993-02-12     IT_PROG   20000       100.0          110.0\n"
     ]
    }
   ],
   "source": [
    "import pandas as pd\n",
    "import numpy as np\n",
    "pd.set_option(\"display.max_rows\",200)\n",
    "pd.set_option(\"display.max_columns\",11)\n",
    "pd.set_option(\"display.max_colwidth\",30)\n",
    "pd.set_option(\"display.width\",1000)\n",
    "Ems=pd.ExcelFile(\"EMS.xlsx\",engine=\"openpyxl\")\n",
    "emp=pd.read_excel(Ems,\"Sheet1\")\n",
    "#want to remove the duplicate elements\n",
    "emp.drop_duplicates(inplace=True)\n",
    "print(emp[emp.duplicated()])\n",
    "print(emp)"
   ]
  },
  {
   "cell_type": "code",
   "execution_count": 11,
   "metadata": {},
   "outputs": [
    {
     "name": "stdout",
     "output_type": "stream",
     "text": [
      "    Department_Id  Department_Name  Manager_Id  Location_Id\n",
      "0           False            False       False        False\n",
      "1           False            False       False        False\n",
      "2           False            False       False        False\n",
      "3           False            False       False        False\n",
      "4           False            False       False        False\n",
      "5           False            False       False        False\n",
      "6           False            False       False        False\n",
      "7           False            False       False        False\n",
      "8           False            False       False        False\n",
      "9           False            False       False        False\n",
      "10          False            False       False        False\n",
      "11          False            False        True        False\n",
      "12          False            False        True        False\n",
      "13          False            False        True        False\n",
      "14          False            False        True        False\n",
      "15          False            False        True        False\n",
      "16          False            False        True        False\n",
      "17          False            False        True        False\n",
      "18          False            False        True        False\n",
      "19          False            False        True        False\n",
      "20          False            False        True        False\n",
      "21          False            False        True        False\n",
      "22          False            False        True        False\n",
      "23          False            False        True        False\n",
      "24          False            False        True        False\n",
      "25          False            False        True        False\n",
      "26          False            False        True        False\n",
      "<bound method DataFrame.dropna of     Department_Id       Department_Name  Manager_Id  Location_Id\n",
      "0              10        Administration       200.0         1700\n",
      "1              20             Marketing       201.0         1800\n",
      "2              30            Purchasing       114.0         1700\n",
      "3              40       Human Resources       203.0         2400\n",
      "4              50              Shipping       121.0         1500\n",
      "5              60                    IT       103.0         1400\n",
      "6              70      Public Relations       204.0         2700\n",
      "7              80                 Sales       145.0         2500\n",
      "8              90             Executive       100.0         1700\n",
      "9             100               Finance       108.0         1700\n",
      "10            110            Accounting       205.0         1700\n",
      "11            120              Treasury         NaN         1700\n",
      "12            130         Corporate Tax         NaN         1700\n",
      "13            140    Control And Credit         NaN         1700\n",
      "14            150  Shareholder Services         NaN         1700\n",
      "15            160              Benefits         NaN         1700\n",
      "16            170         Manufacturing         NaN         1700\n",
      "17            180          Construction         NaN         1700\n",
      "18            190           Contracting         NaN         1700\n",
      "19            200            Operations         NaN         1700\n",
      "20            210            IT Support         NaN         1700\n",
      "21            220                   NOC         NaN         1700\n",
      "22            230           IT Helpdesk         NaN         1700\n",
      "23            240      Government Sales         NaN         1700\n",
      "24            250          Retail Sales         NaN         1700\n",
      "25            260            Recruiting         NaN         1700\n",
      "26            270               Payroll         NaN         1700>\n"
     ]
    }
   ],
   "source": [
    "import pandas as pd\n",
    "import numpy as np\n",
    "Ems=pd.ExcelFile(\"EMS.xlsx\",engine=\"openpyxl\")\n",
    "dept=pd.read_excel(Ems,\"Sheet2\")\n",
    "print(pd.isnull(dept))\n",
    "dept.fillna(\"no emps,inplace=True\")\n",
    "print(dept.dropna)"
   ]
  },
  {
   "cell_type": "code",
   "execution_count": 20,
   "metadata": {},
   "outputs": [
    {
     "name": "stdout",
     "output_type": "stream",
     "text": [
      "Index(['Employee_Id', 'Name', 'Hire_Date', 'Job_Id', 'Salary', 'Manager_Id', 'Department_Id'], dtype='object')\n",
      "     Employee_Id      Name  Hire_Date   Job_Id  Salary  Manager_Id  Department_Id\n",
      "100          200  Jennifer 1987-09-17  AD_ASST    4400       101.0           10.0\n",
      "101          201   Michael 1996-02-17   MK_MAN   13000       100.0           20.0\n",
      "102          202       Pat 1997-08-17   MK_REP    6000       201.0           20.0\n",
      "110          200  Jennifer 1987-09-17  AD_ASST    4400       101.0           10.0\n",
      "111          201   Michael 1996-02-17   MK_MAN   13000       100.0           20.0\n",
      "112          202       Pat 1997-08-17   MK_REP    6000       201.0           20.0\n",
      "     Employee_Id         Name  Department_Id  Salary\n",
      "100          200     Jennifer           10.0    4400\n",
      "110          200     Jennifer           10.0    4400\n",
      "101          201      Michael           20.0   13000\n",
      "111          201      Michael           20.0   13000\n",
      "102          202          Pat           20.0    6000\n",
      "112          202          Pat           20.0    6000\n",
      "14           114          Den           30.0   11000\n",
      "15           115    Alexander           30.0    3100\n",
      "16           116       Shelli           30.0    2900\n",
      "17           117        Sigal           30.0    2800\n",
      "18           118          Guy           30.0    2600\n",
      "19           119        Karen           30.0    2500\n",
      "103          203        Susan           40.0    6500\n",
      "113          203        Susan           40.0    6500\n",
      "21           121         Adam           50.0    8200\n",
      "20           120      Matthew           50.0    8000\n",
      "22           122        Payam           50.0    7900\n",
      "23           123       Shanta           50.0    6500\n",
      "24           124        Kevin           50.0    5800\n",
      "84           184      Nandita           50.0    4200\n",
      "85           185       Alexis           50.0    4100\n",
      "92           192        Sarah           50.0    4000\n",
      "93           193      Britney           50.0    3900\n",
      "88           188        Kelly           50.0    3800\n",
      "37           137       Renske           50.0    3600\n",
      "89           189     Jennifer           50.0    3600\n",
      "41           141       Trenna           50.0    3500\n",
      "86           186        Julia           50.0    3400\n",
      "29           129        Laura           50.0    3300\n",
      "33           133        Jason           50.0    3300\n",
      "25           125        Julia           50.0    3200\n",
      "38           138      Stephen           50.0    3200\n",
      "80           180      Winston           50.0    3200\n",
      "94           194       Samuel           50.0    3200\n",
      "42           142       Curtis           50.0    3100\n",
      "81           181         Jean           50.0    3100\n",
      "96           196        Alana           50.0    3100\n",
      "87           187      Anthony           50.0    3000\n",
      "97           197        Kevin           50.0    3000\n",
      "34           134      Michael           50.0    2900\n",
      "90           190      Timothy           50.0    2900\n",
      "30           130        Mozhe           50.0    2800\n",
      "83           183       Girard           50.0    2800\n",
      "95           195        Vance           50.0    2800\n",
      "26           126        Irene           50.0    2700\n",
      "39           139         John           50.0    2700\n",
      "43           143      Randall           50.0    2600\n",
      "98           198       Donald           50.0    2600\n",
      "99           199      Douglas           50.0    2600\n",
      "31           131        James           50.0    2500\n",
      "40           140       Joshua           50.0    2500\n",
      "44           144        Peter           50.0    2500\n",
      "82           182       Martha           50.0    2500\n",
      "91           191      Randall           50.0    2500\n",
      "27           127        James           50.0    2400\n",
      "35           135           Ki           50.0    2400\n",
      "28           128       Steven           50.0    2200\n",
      "36           136        Hazel           50.0    2200\n",
      "32           132           TJ           50.0    2100\n",
      "3            103    Alexander           60.0    9000\n",
      "4            104        Bruce           60.0    6000\n",
      "5            105        David           60.0    4800\n",
      "6            106        Valli           60.0    4800\n",
      "7            107        Diana           60.0    4200\n",
      "104          204      Hermann           70.0   10000\n",
      "114          204      Hermann           70.0   10000\n",
      "45           145         John           80.0   14000\n",
      "46           146        Karen           80.0   13500\n",
      "47           147      Alberto           80.0   12000\n",
      "68           168         Lisa           80.0   11500\n",
      "48           148       Gerald           80.0   11000\n",
      "74           174        Ellen           80.0   11000\n",
      "49           149        Eleni           80.0   10500\n",
      "62           162        Clara           80.0   10500\n",
      "50           150        Peter           80.0   10000\n",
      "56           156      Janette           80.0   10000\n",
      "69           169     Harrison           80.0   10000\n",
      "70           170       Tayler           80.0    9600\n",
      "51           151        David           80.0    9500\n",
      "57           157      Patrick           80.0    9500\n",
      "63           163     Danielle           80.0    9500\n",
      "52           152        Peter           80.0    9000\n",
      "58           158        Allan           80.0    9000\n",
      "75           175       Alyssa           80.0    8800\n",
      "76           176     Jonathon           80.0    8600\n",
      "77           177         Jack           80.0    8400\n",
      "53           153  Christopher           80.0    8000\n",
      "59           159      Lindsey           80.0    8000\n",
      "54           154      Nanette           80.0    7500\n",
      "60           160       Louise           80.0    7500\n",
      "71           171      William           80.0    7400\n",
      "72           172    Elizabeth           80.0    7300\n",
      "64           164       Mattea           80.0    7200\n",
      "55           155       Oliver           80.0    7000\n",
      "61           161       Sarath           80.0    7000\n",
      "65           165        David           80.0    6800\n",
      "66           166       Sundar           80.0    6400\n",
      "67           167         Amit           80.0    6200\n",
      "79           179      Charles           80.0    6200\n",
      "73           173      Sundita           80.0    6100\n",
      "0            100       Steven           90.0   24000\n",
      "1            101        Neena           90.0   17000\n",
      "2            102          Lex           90.0   17000\n",
      "107          301        Smith           90.0   15000\n",
      "117          301        Smith           90.0   15000\n",
      "8            108        Nancy          100.0   12000\n",
      "9            109       Daniel          100.0    9000\n",
      "10           110         John          100.0    8200\n",
      "12           112  Jose Manuel          100.0    7800\n",
      "11           111       Ismael          100.0    7700\n",
      "13           113         Luis          100.0    6900\n",
      "108          302        _Paul          110.0   20000\n",
      "109          303        Pa%ul          110.0   20000\n",
      "118          302        _Paul          110.0   20000\n",
      "119          303        Pa%ul          110.0   20000\n",
      "105          205      Shelley          110.0   12000\n",
      "115          205      Shelley          110.0   12000\n",
      "106          206      William          110.0    8300\n",
      "116          206      William          110.0    8300\n",
      "78           178    Kimberely            NaN    7000\n"
     ]
    },
    {
     "name": "stderr",
     "output_type": "stream",
     "text": [
      "C:\\Users\\ANANYA AGRAWAL\\AppData\\Local\\Temp\\ipykernel_33184\\3659882004.py:8: SettingWithCopyWarning: \n",
      "A value is trying to be set on a copy of a slice from a DataFrame\n",
      "\n",
      "See the caveats in the documentation: https://pandas.pydata.org/pandas-docs/stable/user_guide/indexing.html#returning-a-view-versus-a-copy\n",
      "  res.sort_values(by=[\"Department_Id\",\"Salary\"],ascending=[True,False],inplace=True)\n"
     ]
    }
   ],
   "source": [
    "import pandas as pd\n",
    "import numpy as np\n",
    "Ems=pd.ExcelFile(\"EMS.xlsx\",engine=\"openpyxl\")\n",
    "emp=pd.read_excel(Ems,\"Sheet1\")\n",
    "#print(emp[\"Department_Id\"].unique())\n",
    "print(emp.columns)\n",
    "res=emp[[\"Employee_Id\",\"Name\",\"Department_Id\",\"Salary\"]]\n",
    "res.sort_values(by=[\"Department_Id\",\"Salary\"],ascending=[True,False],inplace=True)\n",
    "print(emp[emp[\"Department_Id\"].isin([10,20])])\n",
    "print(res)"
   ]
  },
  {
   "cell_type": "code",
   "execution_count": 23,
   "metadata": {},
   "outputs": [
    {
     "name": "stdout",
     "output_type": "stream",
     "text": [
      "     Employee_Id       Name  Salary  Department_Id\n",
      "3            103  Alexander    9000           60.0\n",
      "4            104      Bruce    6000           60.0\n",
      "5            105      David    4800           60.0\n",
      "6            106      Valli    4800           60.0\n",
      "7            107      Diana    4200           60.0\n",
      "103          203      Susan    6500           40.0\n",
      "113          203      Susan    6500           40.0\n",
      "     Employee_Id       Name  Salary  Department_Id  Employee_Id   Name  Salary  Department_Id\n",
      "3          103.0  Alexander  9000.0           60.0          NaN    NaN     NaN            NaN\n",
      "4          104.0      Bruce  6000.0           60.0          NaN    NaN     NaN            NaN\n",
      "5          105.0      David  4800.0           60.0          NaN    NaN     NaN            NaN\n",
      "6          106.0      Valli  4800.0           60.0          NaN    NaN     NaN            NaN\n",
      "7          107.0      Diana  4200.0           60.0          NaN    NaN     NaN            NaN\n",
      "103          NaN        NaN     NaN            NaN        203.0  Susan  6500.0           40.0\n",
      "113          NaN        NaN     NaN            NaN        203.0  Susan  6500.0           40.0\n"
     ]
    }
   ],
   "source": [
    "#moderate of pandas\n",
    "import pandas as pd\n",
    "import numpy as np\n",
    "pd.set_option(\"display.max_rows\",200)\n",
    "pd.set_option(\"display.max_columns\",11)\n",
    "pd.set_option(\"display.max_colwidth\",30)\n",
    "pd.set_option(\"display.width\",1000)\n",
    "Ems=pd.ExcelFile(\"EMS.xlsx\",engine=\"openpyxl\")\n",
    "emp=pd.read_excel(Ems,\"Sheet1\")\n",
    "rs1=(emp[emp[\"Department_Id\"]==60])[[\"Employee_Id\",\"Name\",\"Salary\",\"Department_Id\"]]\n",
    "rs2=(emp[emp[\"Department_Id\"]==40])[[\"Employee_Id\",\"Name\",\"Salary\",\"Department_Id\"]]\n",
    "rs=pd.concat([rs1,rs2])#used for adding the two data\n",
    "ps=pd.concat([rs1,rs2],axis=1)#if we want to merge along the columns\n",
    "print(rs)\n",
    "print(ps)"
   ]
  },
  {
   "cell_type": "code",
   "execution_count": 26,
   "metadata": {},
   "outputs": [
    {
     "ename": "KeyError",
     "evalue": "\"None of [Index(['Name', 'Department_Name'], dtype='object')] are in the [columns]\"",
     "output_type": "error",
     "traceback": [
      "\u001b[1;31m---------------------------------------------------------------------------\u001b[0m",
      "\u001b[1;31mKeyError\u001b[0m                                  Traceback (most recent call last)",
      "\u001b[1;32mc:\\Users\\ANANYA AGRAWAL\\OneDrive\\Desktop\\python tutorial\\pandas\\pan.ipynb Cell 14'\u001b[0m in \u001b[0;36m<module>\u001b[1;34m\u001b[0m\n\u001b[0;32m     <a href='vscode-notebook-cell:/c%3A/Users/ANANYA%20AGRAWAL/OneDrive/Desktop/python%20tutorial/pandas/pan.ipynb#ch0000013?line=9'>10</a>\u001b[0m \u001b[39m#rs=pd.merge(left=emp,right=dept,on=\"Department_Id\",how=\"inner\")#\u001b[39;00m\n\u001b[0;32m     <a href='vscode-notebook-cell:/c%3A/Users/ANANYA%20AGRAWAL/OneDrive/Desktop/python%20tutorial/pandas/pan.ipynb#ch0000013?line=10'>11</a>\u001b[0m rs\u001b[39m=\u001b[39mpd\u001b[39m.\u001b[39mmerge(left\u001b[39m=\u001b[39memp,right\u001b[39m=\u001b[39mdept,on\u001b[39m=\u001b[39m\u001b[39m\"\u001b[39m\u001b[39mDepartment_Id\u001b[39m\u001b[39m\"\u001b[39m,how\u001b[39m=\u001b[39m\u001b[39m\"\u001b[39m\u001b[39mright\u001b[39m\u001b[39m\"\u001b[39m)\n\u001b[1;32m---> <a href='vscode-notebook-cell:/c%3A/Users/ANANYA%20AGRAWAL/OneDrive/Desktop/python%20tutorial/pandas/pan.ipynb#ch0000013?line=11'>12</a>\u001b[0m \u001b[39mprint\u001b[39m(rs[[\u001b[39m\"\u001b[39;49m\u001b[39mName\u001b[39;49m\u001b[39m\"\u001b[39;49m,\u001b[39m\"\u001b[39;49m\u001b[39mDepartment_Name\u001b[39;49m\u001b[39m\"\u001b[39;49m]])\n",
      "File \u001b[1;32mC:\\python 3.9.0\\lib\\site-packages\\pandas\\core\\frame.py:3511\u001b[0m, in \u001b[0;36mDataFrame.__getitem__\u001b[1;34m(self, key)\u001b[0m\n\u001b[0;32m   <a href='file:///c%3A/python%203.9.0/lib/site-packages/pandas/core/frame.py?line=3508'>3509</a>\u001b[0m     \u001b[39mif\u001b[39;00m is_iterator(key):\n\u001b[0;32m   <a href='file:///c%3A/python%203.9.0/lib/site-packages/pandas/core/frame.py?line=3509'>3510</a>\u001b[0m         key \u001b[39m=\u001b[39m \u001b[39mlist\u001b[39m(key)\n\u001b[1;32m-> <a href='file:///c%3A/python%203.9.0/lib/site-packages/pandas/core/frame.py?line=3510'>3511</a>\u001b[0m     indexer \u001b[39m=\u001b[39m \u001b[39mself\u001b[39;49m\u001b[39m.\u001b[39;49mcolumns\u001b[39m.\u001b[39;49m_get_indexer_strict(key, \u001b[39m\"\u001b[39;49m\u001b[39mcolumns\u001b[39;49m\u001b[39m\"\u001b[39;49m)[\u001b[39m1\u001b[39m]\n\u001b[0;32m   <a href='file:///c%3A/python%203.9.0/lib/site-packages/pandas/core/frame.py?line=3512'>3513</a>\u001b[0m \u001b[39m# take() does not accept boolean indexers\u001b[39;00m\n\u001b[0;32m   <a href='file:///c%3A/python%203.9.0/lib/site-packages/pandas/core/frame.py?line=3513'>3514</a>\u001b[0m \u001b[39mif\u001b[39;00m \u001b[39mgetattr\u001b[39m(indexer, \u001b[39m\"\u001b[39m\u001b[39mdtype\u001b[39m\u001b[39m\"\u001b[39m, \u001b[39mNone\u001b[39;00m) \u001b[39m==\u001b[39m \u001b[39mbool\u001b[39m:\n",
      "File \u001b[1;32mC:\\python 3.9.0\\lib\\site-packages\\pandas\\core\\indexes\\base.py:5782\u001b[0m, in \u001b[0;36mIndex._get_indexer_strict\u001b[1;34m(self, key, axis_name)\u001b[0m\n\u001b[0;32m   <a href='file:///c%3A/python%203.9.0/lib/site-packages/pandas/core/indexes/base.py?line=5778'>5779</a>\u001b[0m \u001b[39melse\u001b[39;00m:\n\u001b[0;32m   <a href='file:///c%3A/python%203.9.0/lib/site-packages/pandas/core/indexes/base.py?line=5779'>5780</a>\u001b[0m     keyarr, indexer, new_indexer \u001b[39m=\u001b[39m \u001b[39mself\u001b[39m\u001b[39m.\u001b[39m_reindex_non_unique(keyarr)\n\u001b[1;32m-> <a href='file:///c%3A/python%203.9.0/lib/site-packages/pandas/core/indexes/base.py?line=5781'>5782</a>\u001b[0m \u001b[39mself\u001b[39;49m\u001b[39m.\u001b[39;49m_raise_if_missing(keyarr, indexer, axis_name)\n\u001b[0;32m   <a href='file:///c%3A/python%203.9.0/lib/site-packages/pandas/core/indexes/base.py?line=5783'>5784</a>\u001b[0m keyarr \u001b[39m=\u001b[39m \u001b[39mself\u001b[39m\u001b[39m.\u001b[39mtake(indexer)\n\u001b[0;32m   <a href='file:///c%3A/python%203.9.0/lib/site-packages/pandas/core/indexes/base.py?line=5784'>5785</a>\u001b[0m \u001b[39mif\u001b[39;00m \u001b[39misinstance\u001b[39m(key, Index):\n\u001b[0;32m   <a href='file:///c%3A/python%203.9.0/lib/site-packages/pandas/core/indexes/base.py?line=5785'>5786</a>\u001b[0m     \u001b[39m# GH 42790 - Preserve name from an Index\u001b[39;00m\n",
      "File \u001b[1;32mC:\\python 3.9.0\\lib\\site-packages\\pandas\\core\\indexes\\base.py:5842\u001b[0m, in \u001b[0;36mIndex._raise_if_missing\u001b[1;34m(self, key, indexer, axis_name)\u001b[0m\n\u001b[0;32m   <a href='file:///c%3A/python%203.9.0/lib/site-packages/pandas/core/indexes/base.py?line=5839'>5840</a>\u001b[0m     \u001b[39mif\u001b[39;00m use_interval_msg:\n\u001b[0;32m   <a href='file:///c%3A/python%203.9.0/lib/site-packages/pandas/core/indexes/base.py?line=5840'>5841</a>\u001b[0m         key \u001b[39m=\u001b[39m \u001b[39mlist\u001b[39m(key)\n\u001b[1;32m-> <a href='file:///c%3A/python%203.9.0/lib/site-packages/pandas/core/indexes/base.py?line=5841'>5842</a>\u001b[0m     \u001b[39mraise\u001b[39;00m \u001b[39mKeyError\u001b[39;00m(\u001b[39mf\u001b[39m\u001b[39m\"\u001b[39m\u001b[39mNone of [\u001b[39m\u001b[39m{\u001b[39;00mkey\u001b[39m}\u001b[39;00m\u001b[39m] are in the [\u001b[39m\u001b[39m{\u001b[39;00maxis_name\u001b[39m}\u001b[39;00m\u001b[39m]\u001b[39m\u001b[39m\"\u001b[39m)\n\u001b[0;32m   <a href='file:///c%3A/python%203.9.0/lib/site-packages/pandas/core/indexes/base.py?line=5843'>5844</a>\u001b[0m not_found \u001b[39m=\u001b[39m \u001b[39mlist\u001b[39m(ensure_index(key)[missing_mask\u001b[39m.\u001b[39mnonzero()[\u001b[39m0\u001b[39m]]\u001b[39m.\u001b[39munique())\n\u001b[0;32m   <a href='file:///c%3A/python%203.9.0/lib/site-packages/pandas/core/indexes/base.py?line=5844'>5845</a>\u001b[0m \u001b[39mraise\u001b[39;00m \u001b[39mKeyError\u001b[39;00m(\u001b[39mf\u001b[39m\u001b[39m\"\u001b[39m\u001b[39m{\u001b[39;00mnot_found\u001b[39m}\u001b[39;00m\u001b[39m not in index\u001b[39m\u001b[39m\"\u001b[39m)\n",
      "\u001b[1;31mKeyError\u001b[0m: \"None of [Index(['Name', 'Department_Name'], dtype='object')] are in the [columns]\""
     ]
    }
   ],
   "source": [
    "import pandas as pd\n",
    "import numpy as np\n",
    "pd.set_option(\"display.max_rows\",200)\n",
    "pd.set_option(\"display.max_columns\",11)\n",
    "pd.set_option(\"display.max_colwidth\",30)\n",
    "pd.set_option(\"display.width\",1000)\n",
    "Ems=pd.ExcelFile(\"EMS.xlsx\",engine=\"openpyxl\")\n",
    "emp=pd.read_excel(Ems,\"Sheet1\")\n",
    "emp=pd.read_excel(Ems,\"Sheet2\")\n",
    "#rs=pd.merge(left=emp,right=dept,on=\"Department_Id\",how=\"inner\")#\n",
    "rs=pd.merge(left=emp,right=dept,on=\"Department_Id\",how=\"right\")\n",
    "print(rs[[\"Name\",\"Department_Name\"]])\n"
   ]
  },
  {
   "cell_type": "code",
   "execution_count": 31,
   "metadata": {},
   "outputs": [
    {
     "name": "stdout",
     "output_type": "stream",
     "text": [
      "24000\n",
      "{10.0: [100, 110], 20.0: [101, 102, 111, 112], 30.0: [14, 15, 16, 17, 18, 19], 40.0: [103, 113], 50.0: [20, 21, 22, 23, 24, 25, 26, 27, 28, 29, 30, 31, 32, 33, 34, 35, 36, 37, 38, 39, 40, 41, 42, 43, 44, 80, 81, 82, 83, 84, 85, 86, 87, 88, 89, 90, 91, 92, 93, 94, 95, 96, 97, 98, 99], 60.0: [3, 4, 5, 6, 7], 70.0: [104, 114], 80.0: [45, 46, 47, 48, 49, 50, 51, 52, 53, 54, 55, 56, 57, 58, 59, 60, 61, 62, 63, 64, 65, 66, 67, 68, 69, 70, 71, 72, 73, 74, 75, 76, 77, 79], 90.0: [0, 1, 2, 107, 117], 100.0: [8, 9, 10, 11, 12, 13], 110.0: [105, 106, 108, 109, 115, 116, 118, 119]}\n"
     ]
    }
   ],
   "source": [
    "import pandas as pd\n",
    "import numpy as np\n",
    "pd.set_option(\"display.max_rows\",200)\n",
    "pd.set_option(\"display.max_columns\",11)\n",
    "pd.set_option(\"display.max_colwidth\",30)\n",
    "pd.set_option(\"display.width\",1000)\n",
    "Ems=pd.ExcelFile(\"EMS.xlsx\",engine=\"openpyxl\")\n",
    "emp=pd.read_excel(Ems,\"Sheet1\")\n",
    "print(emp[\"Salary\"].max())\n",
    "#now we want maximum salary of department wise\n",
    "#print(emp.groupby(\"Department_Id\")[\"Salary\"].max())\n",
    "res=emp.groupby(\"Department_Id\")\n",
    "print(res.groups)"
   ]
  },
  {
   "cell_type": "code",
   "execution_count": 34,
   "metadata": {},
   "outputs": [
    {
     "ename": "AttributeError",
     "evalue": "'builtin_function_or_method' object has no attribute 'max'",
     "output_type": "error",
     "traceback": [
      "\u001b[1;31m---------------------------------------------------------------------------\u001b[0m",
      "\u001b[1;31mAttributeError\u001b[0m                            Traceback (most recent call last)",
      "\u001b[1;32mc:\\Users\\ANANYA AGRAWAL\\OneDrive\\Desktop\\python tutorial\\pandas\\pan.ipynb Cell 16'\u001b[0m in \u001b[0;36m<module>\u001b[1;34m\u001b[0m\n\u001b[0;32m      <a href='vscode-notebook-cell:/c%3A/Users/ANANYA%20AGRAWAL/OneDrive/Desktop/python%20tutorial/pandas/pan.ipynb#ch0000015?line=6'>7</a>\u001b[0m emp\u001b[39m=\u001b[39mpd\u001b[39m.\u001b[39mread_csv(\u001b[39m\"\u001b[39m\u001b[39memployee.csv\u001b[39m\u001b[39m\"\u001b[39m)\n\u001b[0;32m      <a href='vscode-notebook-cell:/c%3A/Users/ANANYA%20AGRAWAL/OneDrive/Desktop/python%20tutorial/pandas/pan.ipynb#ch0000015?line=7'>8</a>\u001b[0m \u001b[39m#print(emp.groupby([\"did\",\"jobid\"])[\"Salary\"].sum())\u001b[39;00m\n\u001b[1;32m----> <a href='vscode-notebook-cell:/c%3A/Users/ANANYA%20AGRAWAL/OneDrive/Desktop/python%20tutorial/pandas/pan.ipynb#ch0000015?line=8'>9</a>\u001b[0m res\u001b[39m=\u001b[39memp\u001b[39m.\u001b[39mgroupby(\u001b[39m\"\u001b[39m\u001b[39mdid\u001b[39m\u001b[39m\"\u001b[39m)\u001b[39m.\u001b[39maggregate({\u001b[39m\"\u001b[39m\u001b[39msalary\u001b[39m\u001b[39m\"\u001b[39m:[\u001b[39msum\u001b[39;49m\u001b[39m.\u001b[39;49mmax,\u001b[39mmin\u001b[39m,np\u001b[39m.\u001b[39mmean,np\u001b[39m.\u001b[39mcount_nonzero]})\n\u001b[0;32m     <a href='vscode-notebook-cell:/c%3A/Users/ANANYA%20AGRAWAL/OneDrive/Desktop/python%20tutorial/pandas/pan.ipynb#ch0000015?line=9'>10</a>\u001b[0m \u001b[39mprint\u001b[39m(res)\n",
      "\u001b[1;31mAttributeError\u001b[0m: 'builtin_function_or_method' object has no attribute 'max'"
     ]
    }
   ],
   "source": [
    "import pandas as pd\n",
    "import numpy as np\n",
    "pd.set_option(\"display.max_rows\",200)\n",
    "pd.set_option(\"display.max_columns\",11)\n",
    "pd.set_option(\"display.max_colwidth\",30)\n",
    "pd.set_option(\"display.width\",1000)\n",
    "emp=pd.read_csv(\"employee.csv\")\n",
    "#print(emp.groupby([\"did\",\"jobid\"])[\"Salary\"].sum())\n",
    "res=emp.groupby(\"did\").aggregate({\"salary\":[sum.max,min,np.mean,np.count_nonzero]})\n",
    "print(res)"
   ]
  },
  {
   "cell_type": "code",
   "execution_count": 3,
   "metadata": {},
   "outputs": [
    {
     "ename": "KeyError",
     "evalue": "'salary'",
     "output_type": "error",
     "traceback": [
      "\u001b[1;31m---------------------------------------------------------------------------\u001b[0m",
      "\u001b[1;31mKeyError\u001b[0m                                  Traceback (most recent call last)",
      "File \u001b[1;32mC:\\python 3.9.0\\lib\\site-packages\\pandas\\core\\indexes\\base.py:3621\u001b[0m, in \u001b[0;36mIndex.get_loc\u001b[1;34m(self, key, method, tolerance)\u001b[0m\n\u001b[0;32m   <a href='file:///c%3A/python%203.9.0/lib/site-packages/pandas/core/indexes/base.py?line=3619'>3620</a>\u001b[0m \u001b[39mtry\u001b[39;00m:\n\u001b[1;32m-> <a href='file:///c%3A/python%203.9.0/lib/site-packages/pandas/core/indexes/base.py?line=3620'>3621</a>\u001b[0m     \u001b[39mreturn\u001b[39;00m \u001b[39mself\u001b[39;49m\u001b[39m.\u001b[39;49m_engine\u001b[39m.\u001b[39;49mget_loc(casted_key)\n\u001b[0;32m   <a href='file:///c%3A/python%203.9.0/lib/site-packages/pandas/core/indexes/base.py?line=3621'>3622</a>\u001b[0m \u001b[39mexcept\u001b[39;00m \u001b[39mKeyError\u001b[39;00m \u001b[39mas\u001b[39;00m err:\n",
      "File \u001b[1;32mC:\\python 3.9.0\\lib\\site-packages\\pandas\\_libs\\index.pyx:136\u001b[0m, in \u001b[0;36mpandas._libs.index.IndexEngine.get_loc\u001b[1;34m()\u001b[0m\n",
      "File \u001b[1;32mC:\\python 3.9.0\\lib\\site-packages\\pandas\\_libs\\index.pyx:163\u001b[0m, in \u001b[0;36mpandas._libs.index.IndexEngine.get_loc\u001b[1;34m()\u001b[0m\n",
      "File \u001b[1;32mpandas\\_libs\\hashtable_class_helper.pxi:5198\u001b[0m, in \u001b[0;36mpandas._libs.hashtable.PyObjectHashTable.get_item\u001b[1;34m()\u001b[0m\n",
      "File \u001b[1;32mpandas\\_libs\\hashtable_class_helper.pxi:5206\u001b[0m, in \u001b[0;36mpandas._libs.hashtable.PyObjectHashTable.get_item\u001b[1;34m()\u001b[0m\n",
      "\u001b[1;31mKeyError\u001b[0m: 'salary'",
      "\nThe above exception was the direct cause of the following exception:\n",
      "\u001b[1;31mKeyError\u001b[0m                                  Traceback (most recent call last)",
      "\u001b[1;32mc:\\Users\\ANANYA AGRAWAL\\OneDrive\\Desktop\\python tutorial\\pandas\\pan.ipynb Cell 17'\u001b[0m in \u001b[0;36m<module>\u001b[1;34m\u001b[0m\n\u001b[0;32m      <a href='vscode-notebook-cell:/c%3A/Users/ANANYA%20AGRAWAL/OneDrive/Desktop/python%20tutorial/pandas/pan.ipynb#ch0000016?line=1'>2</a>\u001b[0m \u001b[39mimport\u001b[39;00m \u001b[39mpandas\u001b[39;00m \u001b[39mas\u001b[39;00m \u001b[39mpd\u001b[39;00m\n\u001b[0;32m      <a href='vscode-notebook-cell:/c%3A/Users/ANANYA%20AGRAWAL/OneDrive/Desktop/python%20tutorial/pandas/pan.ipynb#ch0000016?line=2'>3</a>\u001b[0m nba\u001b[39m=\u001b[39mpd\u001b[39m.\u001b[39mread_csv(\u001b[39m\"\u001b[39m\u001b[39mnba.csv\u001b[39m\u001b[39m\"\u001b[39m)\n\u001b[1;32m----> <a href='vscode-notebook-cell:/c%3A/Users/ANANYA%20AGRAWAL/OneDrive/Desktop/python%20tutorial/pandas/pan.ipynb#ch0000016?line=3'>4</a>\u001b[0m \u001b[39mprint\u001b[39m(nba[nba[\u001b[39m\"\u001b[39;49m\u001b[39msalary\u001b[39;49m\u001b[39m\"\u001b[39;49m]\u001b[39m==\u001b[39mnba[\u001b[39m\"\u001b[39m\u001b[39msalary\u001b[39m\u001b[39m\"\u001b[39m]\u001b[39m.\u001b[39mmax()][[\u001b[39m\"\u001b[39m\u001b[39mName\u001b[39m\u001b[39m\"\u001b[39m,\u001b[39m\"\u001b[39m\u001b[39msalary\u001b[39m\u001b[39m\"\u001b[39m]])\n",
      "File \u001b[1;32mC:\\python 3.9.0\\lib\\site-packages\\pandas\\core\\frame.py:3505\u001b[0m, in \u001b[0;36mDataFrame.__getitem__\u001b[1;34m(self, key)\u001b[0m\n\u001b[0;32m   <a href='file:///c%3A/python%203.9.0/lib/site-packages/pandas/core/frame.py?line=3502'>3503</a>\u001b[0m \u001b[39mif\u001b[39;00m \u001b[39mself\u001b[39m\u001b[39m.\u001b[39mcolumns\u001b[39m.\u001b[39mnlevels \u001b[39m>\u001b[39m \u001b[39m1\u001b[39m:\n\u001b[0;32m   <a href='file:///c%3A/python%203.9.0/lib/site-packages/pandas/core/frame.py?line=3503'>3504</a>\u001b[0m     \u001b[39mreturn\u001b[39;00m \u001b[39mself\u001b[39m\u001b[39m.\u001b[39m_getitem_multilevel(key)\n\u001b[1;32m-> <a href='file:///c%3A/python%203.9.0/lib/site-packages/pandas/core/frame.py?line=3504'>3505</a>\u001b[0m indexer \u001b[39m=\u001b[39m \u001b[39mself\u001b[39;49m\u001b[39m.\u001b[39;49mcolumns\u001b[39m.\u001b[39;49mget_loc(key)\n\u001b[0;32m   <a href='file:///c%3A/python%203.9.0/lib/site-packages/pandas/core/frame.py?line=3505'>3506</a>\u001b[0m \u001b[39mif\u001b[39;00m is_integer(indexer):\n\u001b[0;32m   <a href='file:///c%3A/python%203.9.0/lib/site-packages/pandas/core/frame.py?line=3506'>3507</a>\u001b[0m     indexer \u001b[39m=\u001b[39m [indexer]\n",
      "File \u001b[1;32mC:\\python 3.9.0\\lib\\site-packages\\pandas\\core\\indexes\\base.py:3623\u001b[0m, in \u001b[0;36mIndex.get_loc\u001b[1;34m(self, key, method, tolerance)\u001b[0m\n\u001b[0;32m   <a href='file:///c%3A/python%203.9.0/lib/site-packages/pandas/core/indexes/base.py?line=3620'>3621</a>\u001b[0m     \u001b[39mreturn\u001b[39;00m \u001b[39mself\u001b[39m\u001b[39m.\u001b[39m_engine\u001b[39m.\u001b[39mget_loc(casted_key)\n\u001b[0;32m   <a href='file:///c%3A/python%203.9.0/lib/site-packages/pandas/core/indexes/base.py?line=3621'>3622</a>\u001b[0m \u001b[39mexcept\u001b[39;00m \u001b[39mKeyError\u001b[39;00m \u001b[39mas\u001b[39;00m err:\n\u001b[1;32m-> <a href='file:///c%3A/python%203.9.0/lib/site-packages/pandas/core/indexes/base.py?line=3622'>3623</a>\u001b[0m     \u001b[39mraise\u001b[39;00m \u001b[39mKeyError\u001b[39;00m(key) \u001b[39mfrom\u001b[39;00m \u001b[39merr\u001b[39;00m\n\u001b[0;32m   <a href='file:///c%3A/python%203.9.0/lib/site-packages/pandas/core/indexes/base.py?line=3623'>3624</a>\u001b[0m \u001b[39mexcept\u001b[39;00m \u001b[39mTypeError\u001b[39;00m:\n\u001b[0;32m   <a href='file:///c%3A/python%203.9.0/lib/site-packages/pandas/core/indexes/base.py?line=3624'>3625</a>\u001b[0m     \u001b[39m# If we have a listlike key, _check_indexing_error will raise\u001b[39;00m\n\u001b[0;32m   <a href='file:///c%3A/python%203.9.0/lib/site-packages/pandas/core/indexes/base.py?line=3625'>3626</a>\u001b[0m     \u001b[39m#  InvalidIndexError. Otherwise we fall through and re-raise\u001b[39;00m\n\u001b[0;32m   <a href='file:///c%3A/python%203.9.0/lib/site-packages/pandas/core/indexes/base.py?line=3626'>3627</a>\u001b[0m     \u001b[39m#  the TypeError.\u001b[39;00m\n\u001b[0;32m   <a href='file:///c%3A/python%203.9.0/lib/site-packages/pandas/core/indexes/base.py?line=3627'>3628</a>\u001b[0m     \u001b[39mself\u001b[39m\u001b[39m.\u001b[39m_check_indexing_error(key)\n",
      "\u001b[1;31mKeyError\u001b[0m: 'salary'"
     ]
    }
   ],
   "source": [
    "import numpy as np\n",
    "import pandas as pd\n",
    "nba=pd.read_csv(\"nba.csv\")\n",
    "print(nba[nba[\"salary\"]==nba[\"salary\"].max()][[\"Name\",\"salary\"]])"
   ]
  }
 ],
 "metadata": {
  "kernelspec": {
   "display_name": "Python 3.9.0 64-bit",
   "language": "python",
   "name": "python3"
  },
  "language_info": {
   "codemirror_mode": {
    "name": "ipython",
    "version": 3
   },
   "file_extension": ".py",
   "mimetype": "text/x-python",
   "name": "python",
   "nbconvert_exporter": "python",
   "pygments_lexer": "ipython3",
   "version": "3.9.0"
  },
  "orig_nbformat": 4,
  "vscode": {
   "interpreter": {
    "hash": "48db5994b0b093154e25f6d4586d2f03fde606f6ef9d42249ec5726610311839"
   }
  }
 },
 "nbformat": 4,
 "nbformat_minor": 2
}
